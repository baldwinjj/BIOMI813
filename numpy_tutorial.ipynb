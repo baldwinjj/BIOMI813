{
 "cells": [
  {
   "cell_type": "code",
   "execution_count": null,
   "metadata": {
    "collapsed": true
   },
   "outputs": [],
   "source": [
    "import numpy as np"
   ]
  },
  {
   "cell_type": "markdown",
   "metadata": {},
   "source": [
    "## Numpy\n",
    "Numpy is the python library you will use to manipulate vectors, matrices, and densors. In Numpys these mathematical objects are all implemented as \"arrays\". This tutorial will show you how to create and manipulate arrays\n",
    "\n",
    "Note: this tutorial is an example of an ipython \"notebook\". For a tutorial on installing and using notebooks, go here:\n",
    "\n",
    "http://cs231n.github.io/ipython-tutorial/\n",
    "\n",
    "Other note: there are many great python tutorials in notebook format. For example, the current tutorial borrows heavily from:\n",
    "\n",
    "https://github.com/kuleshov/cs228-material/blob/master/tutorials/python/cs228-python-tutorial.ipynb\n",
    "\n"
   ]
  },
  {
   "cell_type": "markdown",
   "metadata": {},
   "source": [
    "### Arrays\n",
    "\"A numpy array is a grid of values, all of the same type, indezed by a non-negative integers.\"\n",
    "\n",
    "Here we implement a simple vector with 3 elements as an array"
   ]
  },
  {
   "cell_type": "code",
   "execution_count": null,
   "metadata": {
    "collapsed": false
   },
   "outputs": [],
   "source": [
    "x = np.array([1,2,3])\n",
    "print x"
   ]
  },
  {
   "cell_type": "markdown",
   "metadata": {},
   "source": [
    "Like all things in python, x is an object with associated attributes and methods.\n",
    "\n",
    "One important attribute is array \"shape\""
   ]
  },
  {
   "cell_type": "code",
   "execution_count": null,
   "metadata": {
    "collapsed": false
   },
   "outputs": [],
   "source": [
    "print x.shape"
   ]
  },
  {
   "cell_type": "markdown",
   "metadata": {},
   "source": [
    "the shape attribute is a tuple of numbers giving the size of each dimension. One important thing to note is that numpy distinguishes between 1D arrays like x, which is neither a row or column vector, and 2D arrays with shape tuples that look like (1,D), for example:"
   ]
  },
  {
   "cell_type": "code",
   "execution_count": null,
   "metadata": {
    "collapsed": false
   },
   "outputs": [],
   "source": [
    "y = np.array([1,2,3],ndmin=2)\n",
    "print 'shape of y: %s' % (y.shape,)\n",
    "print 'shape of x: %s' % (x.shape,)"
   ]
  },
  {
   "cell_type": "markdown",
   "metadata": {},
   "source": [
    "The key difference is the \"ndmin\" argument, which disambiguates by allowing you to specify the minimum number of dimensions. There's an attribute for number of dimensions too"
   ]
  },
  {
   "cell_type": "code",
   "execution_count": null,
   "metadata": {
    "collapsed": false
   },
   "outputs": [],
   "source": [
    "print \"number of x dimensions: %d\" %x.ndim\n",
    "print \"number of y dimensions: %d\" %y.ndim"
   ]
  },
  {
   "cell_type": "markdown",
   "metadata": {},
   "source": [
    "We can create arrays with more dimensions by passing lists of lists"
   ]
  },
  {
   "cell_type": "code",
   "execution_count": null,
   "metadata": {
    "collapsed": false
   },
   "outputs": [],
   "source": [
    "z = np.array([[1,2,3], [4,5,6], [7,8,9]])\n",
    "print z"
   ]
  },
  {
   "cell_type": "markdown",
   "metadata": {},
   "source": [
    "#### Exercise:\n",
    "Create a 3D array with shape tuple (2,2,2) using a nested list construction"
   ]
  },
  {
   "cell_type": "code",
   "execution_count": null,
   "metadata": {
    "collapsed": true
   },
   "outputs": [],
   "source": [
    "###your code here"
   ]
  },
  {
   "cell_type": "markdown",
   "metadata": {},
   "source": [
    "numpy provides all sorts of ways to initialize newly create arrays"
   ]
  },
  {
   "cell_type": "code",
   "execution_count": null,
   "metadata": {
    "collapsed": false
   },
   "outputs": [],
   "source": [
    "a = np.zeros((1,2)) \n",
    "print a"
   ]
  },
  {
   "cell_type": "markdown",
   "metadata": {},
   "source": [
    "the (1,2) tuple argument passed to \"zeros\" determines the array's shape"
   ]
  },
  {
   "cell_type": "code",
   "execution_count": null,
   "metadata": {
    "collapsed": false
   },
   "outputs": [],
   "source": [
    "b = np.ones((2,2,2))\n",
    "print b"
   ]
  },
  {
   "cell_type": "code",
   "execution_count": null,
   "metadata": {
    "collapsed": false
   },
   "outputs": [],
   "source": [
    "c = np.full((2,2),7)\n",
    "print c"
   ]
  },
  {
   "cell_type": "code",
   "execution_count": null,
   "metadata": {
    "collapsed": false
   },
   "outputs": [],
   "source": [
    "d = np.eye(6)\n",
    "print d"
   ]
  },
  {
   "cell_type": "code",
   "execution_count": null,
   "metadata": {
    "collapsed": false
   },
   "outputs": [],
   "source": [
    "f = np.random.random((3,3)) ##random values between 0,1\n",
    "print f"
   ]
  },
  {
   "cell_type": "markdown",
   "metadata": {},
   "source": [
    "#### Exercise\n",
    "Create a (3,3) array of numbers in the range (1,2)"
   ]
  },
  {
   "cell_type": "code",
   "execution_count": null,
   "metadata": {
    "collapsed": false
   },
   "outputs": [],
   "source": [
    "##your code here"
   ]
  },
  {
   "cell_type": "markdown",
   "metadata": {},
   "source": [
    "### Array shape manipulation\n",
    "Sometimes you will want to change the shape of your array. For example, suppose we have a 16 x 16 image and we want to turn into in a flat array."
   ]
  },
  {
   "cell_type": "code",
   "execution_count": null,
   "metadata": {
    "collapsed": false
   },
   "outputs": [],
   "source": [
    "img = np.random.random((16,16))\n",
    "print img.shape\n"
   ]
  },
  {
   "cell_type": "code",
   "execution_count": null,
   "metadata": {
    "collapsed": false
   },
   "outputs": [],
   "source": [
    "flat_img = img.ravel()\n",
    "print flat_img.shape"
   ]
  },
  {
   "cell_type": "markdown",
   "metadata": {},
   "source": [
    "Now, let's retain the image format\n"
   ]
  },
  {
   "cell_type": "code",
   "execution_count": null,
   "metadata": {
    "collapsed": false
   },
   "outputs": [],
   "source": [
    "img2 = flat_img.reshape((16,16))\n",
    "print img2.shape"
   ]
  },
  {
   "cell_type": "markdown",
   "metadata": {},
   "source": [
    "Conveniently, the transpose operation is built-in into each array"
   ]
  },
  {
   "cell_type": "code",
   "execution_count": null,
   "metadata": {
    "collapsed": false
   },
   "outputs": [],
   "source": [
    "x = np.ones((10,5))\n",
    "print x.shape\n",
    "y = x.T\n",
    "print y.shape"
   ]
  },
  {
   "cell_type": "markdown",
   "metadata": {},
   "source": [
    "Finally, it is sometimes useful to add \"dummy\" axes to an array for purposes of broadcasting (below). For this we can use the \"np.newaxis\" notation. In this example, we insert a new dimension into a 2D array."
   ]
  },
  {
   "cell_type": "code",
   "execution_count": null,
   "metadata": {
    "collapsed": false
   },
   "outputs": [],
   "source": [
    "x = np.ones((10,10))\n",
    "print x.shape\n",
    "y = x[:, np.newaxis, :]\n",
    "print y.shape"
   ]
  },
  {
   "cell_type": "markdown",
   "metadata": {},
   "source": [
    "#### Exercise \n",
    "Construct a 9 x 16 x 16 \"movie\" of random, 16x16 images. Reformat the movie into a flat 3x3 \"montage\" of the individual frames."
   ]
  },
  {
   "cell_type": "code",
   "execution_count": null,
   "metadata": {
    "collapsed": true
   },
   "outputs": [],
   "source": [
    "### your code here"
   ]
  },
  {
   "cell_type": "markdown",
   "metadata": {},
   "source": [
    "### Array indexing\n",
    "To retrieve specific elements on an array, we can use the bracket notation []. This is called \"slicing\""
   ]
  },
  {
   "cell_type": "code",
   "execution_count": null,
   "metadata": {
    "collapsed": false
   },
   "outputs": [],
   "source": [
    "z = np.array([[1,2,3,10], [4,5,6,11], [7,8,9,12]])\n",
    "print z"
   ]
  },
  {
   "cell_type": "code",
   "execution_count": null,
   "metadata": {
    "collapsed": false
   },
   "outputs": [],
   "source": [
    "##equivalent ways to get the first row\n",
    "print z[0]\n",
    "print z[0,:]\n",
    "\n"
   ]
  },
  {
   "cell_type": "code",
   "execution_count": null,
   "metadata": {
    "collapsed": false
   },
   "outputs": [],
   "source": [
    "##get first column\n",
    "print z[:,0]"
   ]
  },
  {
   "cell_type": "code",
   "execution_count": null,
   "metadata": {
    "collapsed": false
   },
   "outputs": [],
   "source": [
    "##get the first element\n",
    "z[0,0]"
   ]
  },
  {
   "cell_type": "code",
   "execution_count": null,
   "metadata": {
    "collapsed": false
   },
   "outputs": [],
   "source": [
    "##get the last element of first row\n",
    "z[0,-1]"
   ]
  },
  {
   "cell_type": "code",
   "execution_count": null,
   "metadata": {
    "collapsed": false
   },
   "outputs": [],
   "source": [
    "##get everything but the last element of the first row\n",
    "z[0,:-1]"
   ]
  },
  {
   "cell_type": "code",
   "execution_count": null,
   "metadata": {
    "collapsed": false
   },
   "outputs": [],
   "source": [
    "##access the second row, returning a 1D array\n",
    "print z[1,:], z[1,:].shape"
   ]
  },
  {
   "cell_type": "code",
   "execution_count": null,
   "metadata": {
    "collapsed": false
   },
   "outputs": [],
   "source": [
    "##access the second rown, returning a 2D array\n",
    "print z[1:2,:], z[1:2,:].shape"
   ]
  },
  {
   "cell_type": "code",
   "execution_count": null,
   "metadata": {
    "collapsed": false
   },
   "outputs": [],
   "source": [
    "##submatrix in the bottom corner\n",
    "print z[1:,-2:]\n"
   ]
  },
  {
   "cell_type": "markdown",
   "metadata": {},
   "source": [
    "Suppose we have a stack of images stored as a 3D tensor (N, P, P), where N = number of images, P = pixel resolution of images. We can select images by slicing the first dimension only"
   ]
  },
  {
   "cell_type": "code",
   "execution_count": null,
   "metadata": {
    "collapsed": false
   },
   "outputs": [],
   "source": [
    "N,P = 10,16\n",
    "g = np.random.random((N,P,P))\n",
    "print g.shape\n",
    "print g[:3].shape"
   ]
  },
  {
   "cell_type": "markdown",
   "metadata": {},
   "source": [
    "Integer indexing: instead of slicing, pass lists (or tuples) of indices"
   ]
  },
  {
   "cell_type": "code",
   "execution_count": null,
   "metadata": {
    "collapsed": false
   },
   "outputs": [],
   "source": [
    "##access every other element of first row\n",
    "print z[0,[0,2,]]\n",
    "##or\n",
    "print z[0,[1,-1]]"
   ]
  },
  {
   "cell_type": "code",
   "execution_count": null,
   "metadata": {
    "collapsed": false
   },
   "outputs": [],
   "source": [
    "##access lists of individual elements specified by (i,j) pairs: for example, the diagonal\n",
    "print z[[0,1,2], [0,1,2]]\n",
    "##is just like\n",
    "print np.array([z[0,0], z[1,1], z[2,2]])"
   ]
  },
  {
   "cell_type": "markdown",
   "metadata": {},
   "source": [
    "#### Exercise\n",
    "Create two lists \"row_dx\" and \"col_dx\" such that z[row_dx, col_dx] returns elements at the four corners of the matrix z"
   ]
  },
  {
   "cell_type": "code",
   "execution_count": null,
   "metadata": {
    "collapsed": false
   },
   "outputs": [],
   "source": [
    "###your code here"
   ]
  },
  {
   "cell_type": "markdown",
   "metadata": {},
   "source": [
    "Boolean indexing: pass an array or list of True/False elements. Must match shape of original array or errors/weird things can happen."
   ]
  },
  {
   "cell_type": "code",
   "execution_count": null,
   "metadata": {
    "collapsed": false
   },
   "outputs": [],
   "source": [
    "##convert array to booleans\n",
    "z > 5"
   ]
  },
  {
   "cell_type": "code",
   "execution_count": null,
   "metadata": {
    "collapsed": false
   },
   "outputs": [],
   "source": [
    "##to get a 1D array of all the elements marked \"true\" we can just go\n",
    "print z[z>5]"
   ]
  },
  {
   "cell_type": "markdown",
   "metadata": {},
   "source": [
    "### Array assignment\n",
    "Here's something you need to know: if you assign an indexed array element to a new variable, modifications to that new variable will modify the original indexed array!"
   ]
  },
  {
   "cell_type": "code",
   "execution_count": null,
   "metadata": {
    "collapsed": false
   },
   "outputs": [],
   "source": [
    "z = np.array([[1,2,3,10], [4,5,6,11], [7,8,9,12]])\n",
    "x = z[0,:]\n",
    "print x\n",
    "print x[0]"
   ]
  },
  {
   "cell_type": "code",
   "execution_count": null,
   "metadata": {
    "collapsed": false
   },
   "outputs": [],
   "source": [
    "x[0] = 0\n",
    "print x[0]\n",
    "print z[0,0]"
   ]
  },
  {
   "cell_type": "markdown",
   "metadata": {},
   "source": [
    "...NOTE: if we reference only a single element of z, changes to the referencing variable no longer modify original array!!"
   ]
  },
  {
   "cell_type": "code",
   "execution_count": null,
   "metadata": {
    "collapsed": false
   },
   "outputs": [],
   "source": [
    "x = z[0,0]  ##x is now a simple scalar\n",
    "print x, x.shape\n",
    "##changes to x don't propagate back to z\n",
    "x += 10\n",
    "print x\n",
    "print z[0,0]"
   ]
  },
  {
   "cell_type": "markdown",
   "metadata": {},
   "source": [
    "### Math"
   ]
  },
  {
   "cell_type": "code",
   "execution_count": null,
   "metadata": {
    "collapsed": false
   },
   "outputs": [],
   "source": [
    "x = np.array([[1,2],[3,4]], dtype=np.float64)\n",
    "y = np.array([[5,6],[7,8]], dtype=np.float64)\n",
    "\n",
    "# Elementwise sum; both produce the array\n",
    "print x + y\n",
    "print np.add(x, y)"
   ]
  },
  {
   "cell_type": "code",
   "execution_count": null,
   "metadata": {
    "collapsed": true
   },
   "outputs": [],
   "source": [
    "# Elementwise difference; both produce the array\n",
    "print x - y\n",
    "print np.subtract(x, y)"
   ]
  },
  {
   "cell_type": "code",
   "execution_count": null,
   "metadata": {
    "collapsed": true
   },
   "outputs": [],
   "source": [
    "# Elementwise product; both produce the array\n",
    "print x * y\n",
    "print np.multiply(x, y)"
   ]
  },
  {
   "cell_type": "code",
   "execution_count": null,
   "metadata": {
    "collapsed": true
   },
   "outputs": [],
   "source": [
    "# Elementwise division; both produce the array\n",
    "# [[ 0.2         0.33333333]\n",
    "#  [ 0.42857143  0.5       ]]\n",
    "print x / y\n",
    "print np.divide(x, y)"
   ]
  },
  {
   "cell_type": "markdown",
   "metadata": {},
   "source": [
    "Numpy provides many useful functions for performing computations on arrays; one of the most useful is sum\n"
   ]
  },
  {
   "cell_type": "code",
   "execution_count": null,
   "metadata": {
    "collapsed": true
   },
   "outputs": [],
   "source": [
    "x = np.array([[1,2],[3,4]])\n",
    "\n",
    "print np.sum(x)  # Compute sum of all elements; prints \"10\"\n",
    "print np.sum(x, axis=0)  # Compute sum of each column; prints \"[4 6]\"\n",
    "print np.sum(x, axis=1)  # Compute sum of each row; prints \"[3 7]\""
   ]
  },
  {
   "cell_type": "markdown",
   "metadata": {},
   "source": [
    "### Broadcasting\n",
    "This is an involved subject, but note that if we want to add the same row to every row of a matrix, we can do this\n"
   ]
  },
  {
   "cell_type": "code",
   "execution_count": null,
   "metadata": {
    "collapsed": false
   },
   "outputs": [],
   "source": [
    "##add \n",
    "x = np.random.randn(2,100000)\n",
    "print x.shape\n",
    "z = np.ones((2,1))\n",
    "print 'plus'\n",
    "print z.shape\n",
    "y = x+z\n",
    "print 'makes'\n",
    "print y.shape\n",
    "print '\\n'\n",
    "\n",
    "##notice we've changed the mean\n",
    "print 'mean of cols in x: %s' %(np.mean(x,axis=1),)\n",
    "print 'mean of cols in y: %s' %(np.mean(y,axis=1),)"
   ]
  },
  {
   "cell_type": "markdown",
   "metadata": {},
   "source": [
    "Now try the same thing, but with a subtle change: the added vector \"z\" is now 1D.\n"
   ]
  },
  {
   "cell_type": "code",
   "execution_count": null,
   "metadata": {
    "collapsed": false
   },
   "outputs": [],
   "source": [
    "##add \n",
    "x = np.random.randn(2,100000)\n",
    "print x.shape\n",
    "z = np.ones((2))\n",
    "print 'plus'\n",
    "print z.shape\n",
    "print 'makes'\n",
    "y = x+z\n",
    "print y.shape\n",
    "print '\\n'"
   ]
  },
  {
   "cell_type": "markdown",
   "metadata": {},
   "source": [
    "##### This is why it's important to observe the difference between arrays with shape (1,D) and (D,) !!!!"
   ]
  },
  {
   "cell_type": "markdown",
   "metadata": {},
   "source": [
    "### Plotting"
   ]
  },
  {
   "cell_type": "code",
   "execution_count": null,
   "metadata": {
    "collapsed": true
   },
   "outputs": [],
   "source": [
    "import matplotlib.pyplot as plt\n",
    "%matplotlib inline"
   ]
  },
  {
   "cell_type": "code",
   "execution_count": null,
   "metadata": {
    "collapsed": false
   },
   "outputs": [],
   "source": [
    "# Compute the x and y coordinates for points on a sine curve\n",
    "x = np.arange(0, 3 * np.pi, 0.1)\n",
    "y = np.sin(x)\n",
    "\n",
    "# Plot the points using matplotlib\n",
    "plt.plot(x, y, 'r')  ##'r' makes it red"
   ]
  },
  {
   "cell_type": "code",
   "execution_count": null,
   "metadata": {
    "collapsed": false
   },
   "outputs": [],
   "source": [
    "##A scatter plot\n",
    "x = np.random.random((1,18))\n",
    "y = np.random.random((1,18))\n",
    "plt.scatter(x,y)\n",
    "plt.plot(np.linspace(0,1,), np.linspace(0,1)) ##default color is blue"
   ]
  },
  {
   "cell_type": "code",
   "execution_count": null,
   "metadata": {
    "collapsed": false
   },
   "outputs": [],
   "source": [
    "##A histogram\n",
    "plt.subplot(3,1,1)\n",
    "x = np.random.randn(100)\n",
    "_=plt.hist(x,bins=100)\n",
    "plt.subplot(3,1,2)\n",
    "x = np.random.randn(1000)\n",
    "_=plt.hist(x,bins=100)\n",
    "plt.subplot(3,1,3)\n",
    "x = np.random.randn(10000)\n",
    "_=plt.hist(x,bins=100)"
   ]
  },
  {
   "cell_type": "markdown",
   "metadata": {},
   "source": [
    "#### Exercise\n",
    "Generate some fake data: two clouds of points in the plain, one centered at (-2,2) and another centered at (2,-2).\n",
    "\n",
    "Make a 3-panel plot with the following:\n",
    "     1. A scatterplot with the different clouds of points in two different colors\n",
    "     2. A histogram of the data distribution along the x-axis\n",
    "     3. A histogram of the data distribution along the y-axis\n",
    "\n"
   ]
  },
  {
   "cell_type": "code",
   "execution_count": null,
   "metadata": {
    "collapsed": true
   },
   "outputs": [],
   "source": [
    "###your code here"
   ]
  }
 ],
 "metadata": {
  "kernelspec": {
   "display_name": "Python 2",
   "language": "python",
   "name": "python2"
  },
  "language_info": {
   "codemirror_mode": {
    "name": "ipython",
    "version": 2
   },
   "file_extension": ".py",
   "mimetype": "text/x-python",
   "name": "python",
   "nbconvert_exporter": "python",
   "pygments_lexer": "ipython2",
   "version": "2.7.12"
  }
 },
 "nbformat": 4,
 "nbformat_minor": 0
}
