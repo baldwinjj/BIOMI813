{
 "cells": [
  {
   "cell_type": "markdown",
   "metadata": {},
   "source": [
    "# CSCI 490 - Computer Vision \n",
    "# BIOMI 813 - Pattern recognition and machine learning\n",
    "---\n",
    "## Deep learning: Beyond classification\n",
    "---"
   ]
  },
  {
   "cell_type": "markdown",
   "metadata": {},
   "source": [
    "## Method based on pixel gradient: Reversing a network\n",
    "#### Nguyen et al. 2015, \"Deep Neural Networks are Easily Fooled: High Confidence Predictions for Unrecognizable Images\"\n",
    "\n",
    "https://arxiv.org/pdf/1412.1897.pdf\n",
    "\n",
    "<img src=\"img/nuygen2015.png\",width=520, align=center>"
   ]
  },
  {
   "cell_type": "markdown",
   "metadata": {},
   "source": [
    "### Visualizing a network's internal representations\n",
    "#### Zeiler and Fergus 2013, \"Visualizing and Understanding Convolutional Networks\"\n",
    "https://arxiv.org/abs/1311.2901\n",
    "\n",
    "<img src=\"img/zeiler2013.png\",width=1080, align=center>\n",
    "\n",
    "#### Yosinski et al. 2015, \"Understanding Neural Networks Through Deep Visualization\"\n",
    "https://arxiv.org/abs/1506.06579\n",
    "\n",
    "<img src=\"img/yosinski2015.png\",width=1080, align=center>"
   ]
  },
  {
   "cell_type": "markdown",
   "metadata": {},
   "source": [
    "### Deep-dream\n",
    "\n",
    "https://research.googleblog.com/2015/06/inceptionism-going-deeper-into-neural.html\n",
    "\n",
    "<img src=\"img/deepdream.png\",width=1680, align=center>"
   ]
  },
  {
   "cell_type": "markdown",
   "metadata": {},
   "source": [
    "## Generative models\n",
    "#### van den Oord et al. 2016, \"Conditional Image Generation with PixelCNN Decoders\"\n",
    "\n",
    "https://arxiv.org/abs/1606.05328\n",
    "\n",
    "<img src=\"img/pixelcnn_gen.png\",width=1280, align=center>\n",
    "\n",
    "\n",
    "#### Zhao et al. 2017, \"Energy-based Generative Adversarial Network\"\n",
    "\n",
    "https://arxiv.org/abs/1609.03126\n",
    "\n",
    "<img src=\"img/ebgan.png\",width=1280, align=center>"
   ]
  },
  {
   "cell_type": "markdown",
   "metadata": {},
   "source": [
    "## Properties of the latent code of deep networks\n",
    "\n",
    "#### Radford et al. 2015, \"Unsupervised Representation Learning with Deep Convolutional Generative Adversarial Networks\"\n",
    "https://arxiv.org/abs/1511.06434\n",
    "\n",
    "<img src=\"img/radford2015.png\",width=1280, align=center>\n",
    "\n",
    "#### van den Oord et al. 2016, \"Conditional Image Generation with PixelCNN Decoders\"\n",
    "\n",
    "https://arxiv.org/abs/1606.05328\n",
    "\n",
    "<img src=\"img/pixelcnn_embedding.png\",width=1280, align=center>\n",
    "\n",
    "#### Isola et al. 2016, \"Image-to-Image Translation with Conditional Adversarial Networks\"\n",
    "https://arxiv.org/abs/1611.07004\n",
    "\n",
    "<img src=\"img/isola2016.png\",width=1280, align=center>"
   ]
  },
  {
   "cell_type": "code",
   "execution_count": null,
   "metadata": {
    "collapsed": true
   },
   "outputs": [],
   "source": []
  }
 ],
 "metadata": {
  "kernelspec": {
   "display_name": "Python 2",
   "language": "python",
   "name": "python2"
  },
  "language_info": {
   "codemirror_mode": {
    "name": "ipython",
    "version": 2
   },
   "file_extension": ".py",
   "mimetype": "text/x-python",
   "name": "python",
   "nbconvert_exporter": "python",
   "pygments_lexer": "ipython2",
   "version": "2.7.6"
  }
 },
 "nbformat": 4,
 "nbformat_minor": 0
}
