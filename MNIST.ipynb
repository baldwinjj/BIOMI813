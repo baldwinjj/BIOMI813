{
 "cells": [
  {
   "cell_type": "markdown",
   "metadata": {},
   "source": [
    "## Load and view the MNIST images\n",
    "The MNIST dataset is a set of 60,000 images of hand-written digits. In the computer vision community, most new algorithms are tested against this dataset as a benchmark and sanity check.\n",
    "\n",
    "The images can be found here:\n",
    "\n",
    "http://yann.lecun.com/exdb/mnist/\n",
    "\n",
    "Download the datafiles and store them somwhere.\n",
    "\n",
    "There are 4 datafiles:\n",
    "\n",
    "    -training images (60K images, each is 28 x 28 pixels)\n",
    "    -validation images (10K images, 28 x 28)\n",
    "    -training_labels (length=60K integer array indicating digit in each image)\n",
    "    -validation_labels (length=10K integer array of indicators)"
   ]
  },
  {
   "cell_type": "code",
   "execution_count": null,
   "metadata": {
    "collapsed": false
   },
   "outputs": [],
   "source": [
    "import numpy as np\n",
    "import matplotlib.pyplot as plt\n",
    "from loadMNIST import LoadMNIST\n",
    "%matplotlib inline"
   ]
  },
  {
   "cell_type": "markdown",
   "metadata": {},
   "source": [
    "The class repo contains a function \"loadMNIST\" that loads up the images."
   ]
  },
  {
   "cell_type": "code",
   "execution_count": null,
   "metadata": {
    "collapsed": true
   },
   "outputs": [],
   "source": [
    "##locate your images\n",
    "mnist_trn_img = '/mnt/fast/MNIST/train-images-idx3-ubyte'\n",
    "mnist_trn_lab = '/mnt/fast/MNIST/train-labels-idx1-ubyte'\n",
    "mnist_val_img = '/mnt/fast/MNIST/t10k-images-idx3-ubyte'\n",
    "mnist_val_lab = '/mnt/fast/MNIST/t10k-labels-idx1-ubyte'"
   ]
  },
  {
   "cell_type": "code",
   "execution_count": null,
   "metadata": {
    "collapsed": false
   },
   "outputs": [],
   "source": [
    "##load your images\n",
    "mnist_trn_data = LoadMNIST(mnist_trn_img)\n",
    "mnist_val_data = LoadMNIST(mnist_val_img)\n",
    "mnist_trn_label = LoadMNIST(mnist_trn_lab)\n",
    "mnist_val_label = LoadMNIST(mnist_val_lab)"
   ]
  },
  {
   "cell_type": "code",
   "execution_count": null,
   "metadata": {
    "collapsed": false
   },
   "outputs": [],
   "source": [
    "random_index = 32000\n",
    "img = mnist_trn_data[random_index]\n",
    "lbl = mnist_trn_label[random_index]\n",
    "plt.imshow(img, cmap='gray')\n",
    "plt.title('digit is %d' %(lbl))\n"
   ]
  },
  {
   "cell_type": "code",
   "execution_count": null,
   "metadata": {
    "collapsed": false
   },
   "outputs": [],
   "source": [
    "random_index = 11\n",
    "img = mnist_val_data[random_index]\n",
    "lbl = mnist_val_label[random_index]\n",
    "plt.imshow(img, cmap='gray')\n",
    "plt.title('digit is %d' %(lbl))"
   ]
  }
 ],
 "metadata": {
  "kernelspec": {
   "display_name": "Python 2",
   "language": "python",
   "name": "python2"
  },
  "language_info": {
   "codemirror_mode": {
    "name": "ipython",
    "version": 2
   },
   "file_extension": ".py",
   "mimetype": "text/x-python",
   "name": "python",
   "nbconvert_exporter": "python",
   "pygments_lexer": "ipython2",
   "version": "2.7.12"
  }
 },
 "nbformat": 4,
 "nbformat_minor": 0
}
