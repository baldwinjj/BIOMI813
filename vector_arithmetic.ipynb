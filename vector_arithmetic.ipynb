{
 "cells": [
  {
   "cell_type": "markdown",
   "metadata": {},
   "source": [
    "## Vector arithmetic exercises\n",
    "To build intution"
   ]
  },
  {
   "cell_type": "code",
   "execution_count": 1,
   "metadata": {
    "collapsed": false
   },
   "outputs": [],
   "source": [
    "import numpy as np\n",
    "import matplotlib.pyplot as plt\n",
    "%matplotlib inline"
   ]
  },
  {
   "cell_type": "markdown",
   "metadata": {},
   "source": [
    "### Addition and subtraction\n",
    "Adding two vectors in numpy is easy. The \"+\" and \"-\" operators perform elementwise addition and subtraction, resp.\n",
    "\n",
    "For what it's worth, we can visualize these vectors, and simple operations on them, using \"quiver\""
   ]
  },
  {
   "cell_type": "code",
   "execution_count": 2,
   "metadata": {
    "collapsed": false
   },
   "outputs": [],
   "source": [
    "##assign arbitrary values\n",
    "x = np.array([2., 2.])\n",
    "x_color = np.array([.8,.3,.6])  ##pink vector\n",
    "y = np.array([3.8, -3])\n",
    "y_color = np.array([.2,.6,.8])  ##blue vector\n"
   ]
  },
  {
   "cell_type": "code",
   "execution_count": 3,
   "metadata": {
    "collapsed": false
   },
   "outputs": [
    {
     "data": {
      "text/plain": [
       "<matplotlib.legend.Legend at 0x7f250ab83810>"
      ]
     },
     "execution_count": 3,
     "metadata": {},
     "output_type": "execute_result"
    },
    {
     "data": {
      "image/png": "[encoded data removed]",
      "text/plain": [
       "<matplotlib.figure.Figure at 0x7f250d115a50>"
      ]
     },
     "metadata": {},
     "output_type": "display_data"
    }
   ],
   "source": [
    "##plot using quiver\n",
    "plt.quiver(x[0],x[1],angles='xy', scale_units ='xy',scale=1,color=x_color, label='x')\n",
    "plt.quiver(y[0],y[1],angles='xy', scale_units ='xy',scale=1,color=y_color, label='y')\n",
    "plt.ylim([-6,6])\n",
    "plt.xlim([-6,6])\n",
    "plt.gca().set_aspect('equal', adjustable='box')\n",
    "plt.legend()\n"
   ]
  },
  {
   "cell_type": "code",
   "execution_count": 4,
   "metadata": {
    "collapsed": false
   },
   "outputs": [
    {
     "name": "stdout",
     "output_type": "stream",
     "text": [
      "x: [ 2.  2.]\n",
      "y: [ 3.8 -3. ]\n",
      "x+y: [ 5.8 -1. ]\n"
     ]
    },
    {
     "data": {
      "text/plain": [
       "<matplotlib.legend.Legend at 0x7f250a623f50>"
      ]
     },
     "execution_count": 4,
     "metadata": {},
     "output_type": "execute_result"
    },
    {
     "data": {
      "image/png": "[encoded data removed]",
      "text/plain": [
       "<matplotlib.figure.Figure at 0x7f250ac025d0>"
      ]
     },
     "metadata": {},
     "output_type": "display_data"
    }
   ],
   "source": [
    "##plot x, y, x+y\n",
    "z = x+y\n",
    "print 'x: %s' %(x,)\n",
    "print 'y: %s' %(y,)\n",
    "print 'x+y: %s' %(z,)\n",
    "plt.quiver(x[0],x[1],angles='xy', scale_units ='xy',scale=1,color=x_color, label='x')\n",
    "plt.quiver(y[0],y[1],angles='xy', scale_units ='xy',scale=1,color=y_color, label = 'y')\n",
    "plt.quiver(z[0],z[1],angles='xy', scale_units ='xy',scale=1,color=np.array([0,0,0]), label='x+y')\n",
    "plt.ylim([-6,6])\n",
    "plt.xlim([-6,6])\n",
    "plt.gca().set_aspect('equal', adjustable='box')\n",
    "plt.legend()\n"
   ]
  },
  {
   "cell_type": "code",
   "execution_count": 5,
   "metadata": {
    "collapsed": false
   },
   "outputs": [
    {
     "name": "stdout",
     "output_type": "stream",
     "text": [
      "x: [ 2.  2.]\n",
      "y: [ 3.8 -3. ]\n",
      "x-y: [-1.8  5. ]\n"
     ]
    },
    {
     "data": {
      "text/plain": [
       "<matplotlib.legend.Legend at 0x7f250a5058d0>"
      ]
     },
     "execution_count": 5,
     "metadata": {},
     "output_type": "execute_result"
    },
    {
     "data": {
      "image/png": "[encoded data removed]",
      "text/plain": [
       "<matplotlib.figure.Figure at 0x7f250a642c90>"
      ]
     },
     "metadata": {},
     "output_type": "display_data"
    }
   ],
   "source": [
    "##plot x, y, x-y\n",
    "z = x-y\n",
    "print 'x: %s' %(x,)\n",
    "print 'y: %s' %(y,)\n",
    "print 'x-y: %s' %(z,)\n",
    "plt.quiver(x[0],x[1],angles='xy', scale_units ='xy',scale=1,color=x_color, label='x')\n",
    "plt.quiver(y[0],y[1],angles='xy', scale_units ='xy',scale=1,color=y_color, label='y')\n",
    "plt.quiver(z[0],z[1],angles='xy', scale_units ='xy',scale=1,color=np.array([0,0,0]), label='x-y')\n",
    "plt.ylim([-6,6])\n",
    "plt.xlim([-6,6])\n",
    "plt.gca().set_aspect('equal', adjustable='box')\n",
    "plt.legend()"
   ]
  },
  {
   "cell_type": "markdown",
   "metadata": {},
   "source": [
    "#### Exercise\n",
    "Summing vectors in series to generate a trajectory through space\n",
    "\n",
    "Suppose $\\mathbf{x}_0 = (1,0)$. Write a $\\mathbf{for}$ loop that performs vector addtion according to the following rule:\n",
    "\n",
    "$\\mathbf{x}_{t+1} = \\mathbf{x}_{t}+\\lambda \\mathbf{x}^{\\perp}_{t}$\n",
    "\n",
    "where $\\mathbf{x}^{\\perp}$ is perpendicular to $\\mathbf{x}$ and $\\lambda$ is called the \"step-size\".\n",
    "\n",
    "In two dimensions, to obtain $\\mathbf{x}^{\\perp}$ simply swap vector elements, then negate the first element:\n",
    "\n",
    "$\\mathbf{x}^{\\perp} = \\left (-x_2, x_1 \\right )$\n",
    "\n",
    "Start by iterating for 10000 steps, with a step size of 0.2. What trajectory is traced out by this procedure? How will the tajectory change as the step size is reduced?"
   ]
  },
  {
   "cell_type": "code",
   "execution_count": 196,
   "metadata": {
    "collapsed": false
   },
   "outputs": [],
   "source": [
    "n_steps=10000\n",
    "x_old = np.array([1,0])\n",
    "trajectory = np.zeros((n_steps,2))\n",
    "lam = .0008\n",
    "for ii in range(n_steps):\n",
    "    x_new = x_old+np.array([-x_old[1], x_old[0]])*lam\n",
    "    trajectory[ii,:] = np.copy(x_new)\n",
    "    x_old = np.copy(x_new)\n",
    "    "
   ]
  },
  {
   "cell_type": "code",
   "execution_count": 197,
   "metadata": {
    "collapsed": false
   },
   "outputs": [
    {
     "data": {
      "image/png": "[encoded data removed]",
      "text/plain": [
       "<matplotlib.figure.Figure at 0x7f2509da8d10>"
      ]
     },
     "metadata": {},
     "output_type": "display_data"
    }
   ],
   "source": [
    "_=plt.scatter(trajectory[:,0], trajectory[:,1])\n",
    "# plt.ylim([-6,6])\n",
    "# plt.xlim([-6,6])\n",
    "plt.gca().set_aspect('equal', adjustable='box')"
   ]
  },
  {
   "cell_type": "markdown",
   "metadata": {},
   "source": [
    "### Dot products and matrix multiplication\n",
    "Every array comes with its own \"dot\" method"
   ]
  },
  {
   "cell_type": "code",
   "execution_count": 6,
   "metadata": {
    "collapsed": false
   },
   "outputs": [
    {
     "name": "stdout",
     "output_type": "stream",
     "text": [
      "1.6\n"
     ]
    }
   ],
   "source": [
    "print x.dot(y)"
   ]
  },
  {
   "cell_type": "markdown",
   "metadata": {},
   "source": [
    "When \"x\" is a matrix the \"dot\" method gives us matrix multiplication, as we expect"
   ]
  },
  {
   "cell_type": "code",
   "execution_count": 7,
   "metadata": {
    "collapsed": false
   },
   "outputs": [
    {
     "name": "stdout",
     "output_type": "stream",
     "text": [
      "[[ 2.32549198]\n",
      " [ 6.01291858]\n",
      " [ 4.1677504 ]\n",
      " [ 5.55333156]\n",
      " [ 5.12632147]\n",
      " [ 4.88451494]\n",
      " [ 3.5135869 ]\n",
      " [ 6.07184461]\n",
      " [ 6.09435904]\n",
      " [ 4.52660135]]\n",
      "dimensions of x3: (10, 1)\n"
     ]
    }
   ],
   "source": [
    "x1 = np.random.random((10,10))\n",
    "x2 = np.ones((10,1))\n",
    "x3 = x1.dot(x2)\n",
    "print x3\n",
    "print 'dimensions of x3: %s' %(x3.shape,)"
   ]
  },
  {
   "cell_type": "markdown",
   "metadata": {},
   "source": [
    "If dimensions don't match up, \"dot\" will complain. For example, if the inner dimension of \"x\" and the outer dimension of \"y\" don't match:"
   ]
  },
  {
   "cell_type": "code",
   "execution_count": 8,
   "metadata": {
    "collapsed": false
   },
   "outputs": [
    {
     "ename": "ValueError",
     "evalue": "shapes (10,10) and (1,10) not aligned: 10 (dim 1) != 1 (dim 0)",
     "output_type": "error",
     "traceback": [
      "\u001b[1;31m---------------------------------------------------------------------------\u001b[0m",
      "\u001b[1;31mValueError\u001b[0m                                Traceback (most recent call last)",
      "\u001b[1;32m<ipython-input-8-7fcf73b4f374>\u001b[0m in \u001b[0;36m<module>\u001b[1;34m()\u001b[0m\n\u001b[1;32m----> 1\u001b[1;33m \u001b[0mx1\u001b[0m\u001b[1;33m.\u001b[0m\u001b[0mdot\u001b[0m\u001b[1;33m(\u001b[0m\u001b[0mx2\u001b[0m\u001b[1;33m.\u001b[0m\u001b[0mT\u001b[0m\u001b[1;33m)\u001b[0m  \u001b[1;31m#y.T is (1,10)\u001b[0m\u001b[1;33m\u001b[0m\u001b[0m\n\u001b[0m",
      "\u001b[1;31mValueError\u001b[0m: shapes (10,10) and (1,10) not aligned: 10 (dim 1) != 1 (dim 0)"
     ]
    }
   ],
   "source": [
    "x1.dot(x2.T)  #y.T is (1,10)"
   ]
  },
  {
   "cell_type": "markdown",
   "metadata": {},
   "source": [
    "Be careful! The \"*\" operator in numpy performs elementwise multiplication. For matrix multiplication, use \"dot\"."
   ]
  },
  {
   "cell_type": "markdown",
   "metadata": {},
   "source": [
    "#### Exercise\n",
    "Use quiver to plot $\\mathbf{x}$, $\\mathbf{y}$, and the vector $\\mathbf{z}=\\mathbf{y}\\dfrac{\\mathbf{x}\\cdot \\mathbf{y}}{\\lvert \\mathbf{y} \\rvert}$. "
   ]
  },
  {
   "cell_type": "code",
   "execution_count": 9,
   "metadata": {
    "collapsed": false
   },
   "outputs": [
    {
     "data": {
      "text/plain": [
       "<matplotlib.legend.Legend at 0x7f250a3c3d50>"
      ]
     },
     "execution_count": 9,
     "metadata": {},
     "output_type": "execute_result"
    },
    {
     "data": {
      "image/png": "[encoded data removed]",
      "text/plain": [
       "<matplotlib.figure.Figure at 0x7f250a4ab3d0>"
      ]
     },
     "metadata": {},
     "output_type": "display_data"
    }
   ],
   "source": [
    "z = y*x.dot(y)/np.sqrt(y.dot(y))\n",
    "\n",
    "plt.quiver(x[0],x[1],angles='xy', scale_units ='xy',scale=1,color=x_color, label='x')\n",
    "plt.quiver(y[0],y[1],angles='xy', scale_units ='xy',scale=1,color=y_color, label='y')\n",
    "plt.quiver(z[0],z[1],angles='xy', scale_units ='xy',scale=1,color=np.array([0,0,0]), label='z')\n",
    "\n",
    "plt.ylim([-4,4])\n",
    "plt.xlim([-4,4])\n",
    "plt.gca().set_aspect('equal', adjustable='box')\n",
    "plt.legend(loc='lower left')\n",
    "\n"
   ]
  }
 ],
 "metadata": {
  "kernelspec": {
   "display_name": "Python 2",
   "language": "python",
   "name": "python2"
  },
  "language_info": {
   "codemirror_mode": {
    "name": "ipython",
    "version": 2
   },
   "file_extension": ".py",
   "mimetype": "text/x-python",
   "name": "python",
   "nbconvert_exporter": "python",
   "pygments_lexer": "ipython2",
   "version": "2.7.12"
  }
 },
 "nbformat": 4,
 "nbformat_minor": 0
}
