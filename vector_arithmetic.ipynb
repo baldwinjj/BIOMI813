{
 "cells": [
  {
   "cell_type": "markdown",
   "metadata": {},
   "source": [
    "## Vector arithmetic exercises\n",
    "To build intution"
   ]
  },
  {
   "cell_type": "code",
   "execution_count": null,
   "metadata": {
    "collapsed": false
   },
   "outputs": [],
   "source": [
    "import numpy as np\n",
    "import matplotlib.pyplot as plt\n",
    "%matplotlib inline"
   ]
  },
  {
   "cell_type": "markdown",
   "metadata": {},
   "source": [
    "### Addition and subtraction\n",
    "Adding two vectors in numpy is easy. The \"+\" and \"-\" operators perform elementwise addition and subtraction, resp.\n",
    "\n",
    "For what it's worth, we can visualize these vectors, and simple operations on them, using \"quiver\""
   ]
  },
  {
   "cell_type": "code",
   "execution_count": null,
   "metadata": {
    "collapsed": false
   },
   "outputs": [],
   "source": [
    "##assign arbitrary values\n",
    "x = np.array([2., 2.])\n",
    "x_color = np.array([.8,.3,.6])  ##pink vector\n",
    "y = np.array([3.8, -3])\n",
    "y_color = np.array([.2,.6,.8])  ##blue vector\n"
   ]
  },
  {
   "cell_type": "code",
   "execution_count": null,
   "metadata": {
    "collapsed": false
   },
   "outputs": [],
   "source": [
    "##plot using quiver\n",
    "plt.quiver(x[0],x[1],angles='xy', scale_units ='xy',scale=1,color=x_color, label='x')\n",
    "plt.quiver(y[0],y[1],angles='xy', scale_units ='xy',scale=1,color=y_color, label='y')\n",
    "plt.ylim([-6,6])\n",
    "plt.xlim([-6,6])\n",
    "plt.gca().set_aspect('equal', adjustable='box')\n",
    "plt.legend()\n"
   ]
  },
  {
   "cell_type": "code",
   "execution_count": null,
   "metadata": {
    "collapsed": false
   },
   "outputs": [],
   "source": [
    "##plot x, y, x+y\n",
    "z = x+y\n",
    "print 'x: %s' %(x,)\n",
    "print 'y: %s' %(y,)\n",
    "print 'x+y: %s' %(z,)\n",
    "plt.quiver(x[0],x[1],angles='xy', scale_units ='xy',scale=1,color=x_color, label='x')\n",
    "plt.quiver(y[0],y[1],angles='xy', scale_units ='xy',scale=1,color=y_color, label = 'y')\n",
    "plt.quiver(z[0],z[1],angles='xy', scale_units ='xy',scale=1,color=np.array([0,0,0]), label='x+y')\n",
    "plt.ylim([-6,6])\n",
    "plt.xlim([-6,6])\n",
    "plt.gca().set_aspect('equal', adjustable='box')\n",
    "plt.legend()\n"
   ]
  },
  {
   "cell_type": "code",
   "execution_count": null,
   "metadata": {
    "collapsed": false
   },
   "outputs": [],
   "source": [
    "##plot x, y, x-y\n",
    "z = x-y\n",
    "print 'x: %s' %(x,)\n",
    "print 'y: %s' %(y,)\n",
    "print 'x-y: %s' %(z,)\n",
    "plt.quiver(x[0],x[1],angles='xy', scale_units ='xy',scale=1,color=x_color, label='x')\n",
    "plt.quiver(y[0],y[1],angles='xy', scale_units ='xy',scale=1,color=y_color, label='y')\n",
    "plt.quiver(z[0],z[1],angles='xy', scale_units ='xy',scale=1,color=np.array([0,0,0]), label='x-y')\n",
    "plt.ylim([-6,6])\n",
    "plt.xlim([-6,6])\n",
    "plt.gca().set_aspect('equal', adjustable='box')\n",
    "plt.legend()"
   ]
  },
  {
   "cell_type": "markdown",
   "metadata": {},
   "source": [
    "### Dot products and matrix multiplication\n",
    "Every array comes with its own \"dot\" method"
   ]
  },
  {
   "cell_type": "code",
   "execution_count": null,
   "metadata": {
    "collapsed": false
   },
   "outputs": [],
   "source": [
    "print x.dot(y)"
   ]
  },
  {
   "cell_type": "markdown",
   "metadata": {},
   "source": [
    "When \"x\" is a matrix the \"dot\" method gives us matrix multiplication, as we expect"
   ]
  },
  {
   "cell_type": "code",
   "execution_count": null,
   "metadata": {
    "collapsed": false
   },
   "outputs": [],
   "source": [
    "x1 = np.random.random((10,10))\n",
    "x2 = np.ones((10,1))\n",
    "x3 = x1.dot(x2)\n",
    "print x3\n",
    "print 'dimensions of x3: %s' %(x3.shape,)"
   ]
  },
  {
   "cell_type": "markdown",
   "metadata": {},
   "source": [
    "If dimensions don't match up, \"dot\" will complain. For example, if the inner dimension of \"x\" and the outer dimension of \"y\" don't match:"
   ]
  },
  {
   "cell_type": "code",
   "execution_count": null,
   "metadata": {
    "collapsed": false
   },
   "outputs": [],
   "source": [
    "x1.dot(x2.T)  #y.T is (1,10)"
   ]
  },
  {
   "cell_type": "markdown",
   "metadata": {},
   "source": [
    "Be careful! The \"*\" operator in numpy performs elementwise multiplication. For matrix multiplication, use \"dot\"."
   ]
  },
  {
   "cell_type": "markdown",
   "metadata": {},
   "source": [
    "#### Exercise\n",
    "Use quiver to plot $\\mathbf{x}$, $\\mathbf{y}$, and the vector $\\mathbf{z}=\\mathbf{y}\\dfrac{\\mathbf{x}\\cdot \\mathbf{y}}{\\lvert \\mathbf{y} \\rvert}$. "
   ]
  },
  {
   "cell_type": "code",
   "execution_count": null,
   "metadata": {
    "collapsed": false
   },
   "outputs": [],
   "source": [
    "z = y*x.dot(y)/np.sqrt(y.dot(y))\n",
    "\n",
    "plt.quiver(x[0],x[1],angles='xy', scale_units ='xy',scale=1,color=x_color, label='x')\n",
    "plt.quiver(y[0],y[1],angles='xy', scale_units ='xy',scale=1,color=y_color, label='y')\n",
    "plt.quiver(z[0],z[1],angles='xy', scale_units ='xy',scale=1,color=np.array([0,0,0]), label='z')\n",
    "\n",
    "plt.ylim([-4,4])\n",
    "plt.xlim([-4,4])\n",
    "plt.gca().set_aspect('equal', adjustable='box')\n",
    "plt.legend(loc='lower left')\n",
    "\n"
   ]
  },
  {
   "cell_type": "markdown",
   "metadata": {},
   "source": []
  }
 ],
 "metadata": {
  "kernelspec": {
   "display_name": "Python 2",
   "language": "python",
   "name": "python2"
  },
  "language_info": {
   "codemirror_mode": {
    "name": "ipython",
    "version": 2
   },
   "file_extension": ".py",
   "mimetype": "text/x-python",
   "name": "python",
   "nbconvert_exporter": "python",
   "pygments_lexer": "ipython2",
   "version": "2.7.12"
  }
 },
 "nbformat": 4,
 "nbformat_minor": 0
}
