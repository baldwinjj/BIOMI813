{
 "cells": [
  {
   "cell_type": "markdown",
   "metadata": {},
   "source": [
    "# CSCI 490 - Computer Vision \n",
    "# BIOMI 813 - Pattern recognition and machine learning\n",
    "---\n",
    "## Deep learning: Practical linear and nonlinear classifier training on MNIST \n",
    "## a.k.a. Dr. Perceptron"
   ]
  },
  {
   "cell_type": "markdown",
   "metadata": {},
   "source": [
    "<img src=\"img/Dr._Perceptron.jpg\",width=520, align=left>"
   ]
  },
  {
   "cell_type": "code",
   "execution_count": 1,
   "metadata": {
    "collapsed": false
   },
   "outputs": [
    {
     "name": "stdout",
     "output_type": "stream",
     "text": [
      "Couldn't import dot_parser, loading of dot files will not be possible.\n"
     ]
    },
    {
     "name": "stderr",
     "output_type": "stream",
     "text": [
      "Using gpu device 0: GeForce GTX TITAN X (CNMeM is disabled, cuDNN 5103)\n",
      "/usr/local/lib/python2.7/dist-packages/theano/sandbox/cuda/__init__.py:600: UserWarning: Your cuDNN version is more recent than the one Theano officially supports. If you see any problems, try updating Theano or downgrading cuDNN to version 5.\n",
      "  warnings.warn(warn)\n"
     ]
    }
   ],
   "source": [
    "import os\n",
    "import sys\n",
    "import time\n",
    "import struct\n",
    "import numpy as np\n",
    "from tqdm import tqdm\n",
    "import pickle\n",
    "import matplotlib.pyplot as plt\n",
    "from matplotlib.pyplot import cm \n",
    "import seaborn as sns\n",
    "%matplotlib inline\n",
    "\n",
    "import theano\n",
    "import theano.tensor as T\n",
    "\n",
    "import lasagne\n",
    "import lasagne.layers as L\n",
    "import lasagne.regularization as R\n",
    "import lasagne.nonlinearities as NL\n",
    "import lasagne.objectives as O\n",
    "import lasagne.init as I\n",
    "\n",
    "fpX = np.float32\n",
    "from loadMNIST import LoadMNIST"
   ]
  },
  {
   "cell_type": "code",
   "execution_count": 2,
   "metadata": {
    "collapsed": false
   },
   "outputs": [],
   "source": [
    "sns.axes_style()\n",
    "sns.set_style(\"whitegrid\", {\"axes.facecolor\": '.95'})\n",
    "sns.set_context(\"notebook\", rc={'axes.labelsize': 18.0, 'axes.titlesize': 24.0, 'legend.fontsize': 18.0, 'xtick.labelsize': 18.0, 'ytick.labelsize': 18.0})\n",
    "sns.set_palette(\"deep\")"
   ]
  },
  {
   "cell_type": "markdown",
   "metadata": {},
   "source": [
    "# Procedure:\n",
    "### Each example follow the simple following procedure:\n",
    "### 0) Load the input example and target labels.\n",
    "\n",
    "### 1) Define the network structure.\n",
    "We are only going to make modifications here. The network itself can be seen as a parametrized function $\\bar y = f(x; \\theta)$ where $x$ is the input, $\\theta$ is the parameters and $\\bar y$ is the predicted output. $y$ would be the target associated with $x$ i.e. the actual desired output.\n",
    "\n",
    "### 2) Compile the gradient expression.\n",
    "In theano (the machine learning framework used under the hood here), an expression is first created symbolically like a blueprint, then sent to the shop for manufacturing (compilation). Only after compilation do we have expression that we can use (e.g. $\\bar y = f(x)$ or $\\nabla_\\theta E(x, y)$. \n",
    "\n",
    "### 3) Perform the parameter optimization (training).\n",
    "Training is divided into epochs. One epoch means that we go through the whole set of training example once, and for each example we calculate the gradient of the loss with respect to the parameters of the network in order to improve (reduce) the loss. It is customary (though not required) to test the validation accuracy after each epoch of training.\n",
    "\n",
    "### 4) Validate the newly parametrized network on new input/target pair \n",
    "Alternativelly this can be done during training to see how the validation accuracy change over time).\n",
    "\n",
    "### 5) Look at the results"
   ]
  },
  {
   "cell_type": "markdown",
   "metadata": {},
   "source": [
    "# Step 0) Load MNIST digits dataset"
   ]
  },
  {
   "cell_type": "code",
   "execution_count": 3,
   "metadata": {
    "collapsed": true
   },
   "outputs": [],
   "source": [
    "dataset_folder = '/home/styvesg/Documents/PostDoc/Programs/JupyterNotebooks/DataSet/'\n",
    "\n",
    "mnist_trn_img = dataset_folder + 'train-images.idx3-ubyte'\n",
    "mnist_trn_lab = dataset_folder + 'train-labels.idx1-ubyte'\n",
    "mnist_val_img = dataset_folder + 't10k-images.idx3-ubyte'\n",
    "mnist_val_lab = dataset_folder + 't10k-labels.idx1-ubyte'"
   ]
  },
  {
   "cell_type": "code",
   "execution_count": 4,
   "metadata": {
    "collapsed": false
   },
   "outputs": [
    {
     "name": "stdout",
     "output_type": "stream",
     "text": [
      ">u1\n",
      "(60000, 28, 28)\n",
      ">u1\n",
      "(10000, 28, 28)\n",
      ">u1\n",
      "(60000,)\n",
      ">u1\n",
      "(10000,)\n"
     ]
    }
   ],
   "source": [
    "#Note that we reshaped the file into a 4d tensor with dimensions (sample_count, depth=1, x=28, y=28)\n",
    "mnist_trn_data = LoadMNIST(mnist_trn_img).astype(fpX)[:,np.newaxis,:,:]\n",
    "mnist_val_data = LoadMNIST(mnist_val_img).astype(fpX)[:,np.newaxis,:,:]\n",
    "mnist_trn_label = LoadMNIST(mnist_trn_lab)\n",
    "mnist_val_label = LoadMNIST(mnist_val_lab)"
   ]
  },
  {
   "cell_type": "code",
   "execution_count": 5,
   "metadata": {
    "collapsed": true
   },
   "outputs": [],
   "source": [
    "trn_size = len(mnist_trn_data)\n",
    "val_size = len(mnist_val_data)\n",
    "\n",
    "all_data  = np.concatenate([mnist_trn_data, mnist_val_data], axis=0)\n",
    "all_label = np.concatenate([mnist_trn_label, mnist_val_label], axis=0)\n",
    "\n",
    "order = np.arange(len(all_data))\n",
    "np.random.shuffle(order)\n",
    "all_data = all_data[order]\n",
    "all_label = all_label[order]\n",
    "\n",
    "mnist_trn_data = all_data[:trn_size]\n",
    "mnist_val_data = all_data[trn_size:]\n",
    "mnist_trn_label = all_label[:trn_size]\n",
    "mnist_val_label = all_label[trn_size:]"
   ]
  },
  {
   "cell_type": "code",
   "execution_count": 6,
   "metadata": {
    "collapsed": false
   },
   "outputs": [
    {
     "name": "stdout",
     "output_type": "stream",
     "text": [
      "(60000, 1, 28, 28)\n"
     ]
    }
   ],
   "source": [
    "print mnist_trn_data.shape"
   ]
  },
  {
   "cell_type": "code",
   "execution_count": 7,
   "metadata": {
    "collapsed": true
   },
   "outputs": [],
   "source": [
    "##normalize images\n",
    "##note the use of np.newaxis to take advantage of broadcasting rules!\n",
    "for arr in [mnist_trn_data, mnist_val_data]:\n",
    "    arr -= np.mean(arr,axis=(2,3))[:,np.newaxis,np.newaxis]  \n",
    "    arr /= np.sqrt(np.sum(arr**2,axis=(2,3)))[:,np.newaxis,np.newaxis]"
   ]
  },
  {
   "cell_type": "code",
   "execution_count": 8,
   "metadata": {
    "collapsed": false
   },
   "outputs": [
    {
     "data": {
      "image/png": "[encoded data removed]",
      "text/plain": [
       "<matplotlib.figure.Figure at 0x7fc3380f7290>"
      ]
     },
     "metadata": {},
     "output_type": "display_data"
    }
   ],
   "source": [
    "n = 6\n",
    "plt.figure(figsize=(3*n,3))\n",
    "for i in range(n):\n",
    "    plt.subplot(1,n,i+1)\n",
    "    idx = np.random.randint(0, len(mnist_trn_data))\n",
    "    plt.imshow(mnist_trn_data[idx,0,:,:], cmap='gray', interpolation='None')\n",
    "    plt.grid('off')\n",
    "    plt.title(mnist_trn_label[idx])"
   ]
  },
  {
   "cell_type": "markdown",
   "metadata": {},
   "source": [
    "### Some helpful functions"
   ]
  },
  {
   "cell_type": "code",
   "execution_count": 9,
   "metadata": {
    "collapsed": true
   },
   "outputs": [],
   "source": [
    "def print_lasagne_net(_net, skipnoparam=True):\n",
    "    '''\n",
    "    Print a summary of the layer and their parameter shapes\n",
    "    '''\n",
    "    layers = L.get_all_layers(_net)\n",
    "    for l in layers:\n",
    "        out = l.output_shape\n",
    "        par = l.get_params()\n",
    "        if skipnoparam and len(par)==0 and l.name==None:\n",
    "            continue\n",
    "        print \"Layer\\t: %s\\nName\\t: %s\\nType\\t: %s\" % (l, l.name, type(l))\n",
    "        print \"Shape\\t: %s\" % (out,)\n",
    "        if len(par)>0:\n",
    "            print \"Params\"\n",
    "            for p in par:\n",
    "                print \"        |-- {:<10}: {:}\".format(p.name, p.get_value().shape,)\n",
    "        print \"\\n\"\n",
    "\n",
    "def iterate_minibatches(inputs, targets, batchsize, shuffle=False):\n",
    "    '''\n",
    "    for a given 4d input image tensor and a 2d target tensor of one-hot embedding, \n",
    "    return a shuffled batch of input-target pair\n",
    "    '''\n",
    "    assert len(inputs) == len(targets)\n",
    "    if shuffle:\n",
    "        indices = np.arange(len(inputs))\n",
    "        np.random.shuffle(indices)\n",
    "    for start_idx in range(0, len(inputs) - batchsize + 1, batchsize):\n",
    "        if shuffle:\n",
    "            excerpt = indices[start_idx:start_idx + batchsize]\n",
    "        else:\n",
    "            excerpt = slice(start_idx, start_idx + batchsize)\n",
    "        yield inputs[excerpt], targets[excerpt]\n",
    "          \n",
    "def embedding(x, c=10): \n",
    "    '''\n",
    "    Also known as one-hot embedding.\n",
    "    '''\n",
    "    y = np.zeros((len(x), c), dtype=fpX)\n",
    "    y[np.arange(len(x)), x] = 1\n",
    "    return y"
   ]
  },
  {
   "cell_type": "markdown",
   "metadata": {},
   "source": [
    "# Step 1) Define the classifier net\n",
    "## Reminder:\n",
    "The dense layer (fully connected layer) performs $Y = XW + b$ on its (flattened) input $X$ of shape (\\# of samples, # of features).\n",
    "\n",
    "A rectifier nonlinearity, applied after the linear transformation in some cases, is the piece-wise function $\\phi(x)=\\text{max}(0, x)$ applied element-wise.\n",
    "\n",
    "A sigmoid nonlinearity, applied after the linear transformation in some cases, is the function $\\sigma(x)=\\frac{1}{1+\\exp(-x)}$ applied element-wise, which outputs number between 0 and 1.\n",
    "\n",
    "A tanh nonlinearity, applied after the linear transformation in some cases, is the function $tanh(x) = \\frac{1-\\exp(-2x)}{1+\\exp(-2x)}$ applied element-wise, which outputs number between -1 and 1."
   ]
  },
  {
   "cell_type": "code",
   "execution_count": 10,
   "metadata": {
    "collapsed": true
   },
   "outputs": [],
   "source": [
    "npc = 1         # # of channels in image\n",
    "npx = 28        # # of pixels width/height of images\n",
    "ny = 10         # # of classes"
   ]
  },
  {
   "cell_type": "code",
   "execution_count": 74,
   "metadata": {
    "collapsed": false,
    "scrolled": true
   },
   "outputs": [],
   "source": [
    "def model_1(__X):\n",
    "    '''\n",
    "    A single linear layer\n",
    "    '''\n",
    "    _input = L.InputLayer((None, npc, npx, npx), input_var=__X, name='X')\n",
    "    _fc1 = L.DenseLayer(_input, ny, W=I.Constant(0.0), b=I.Constant(0.), nonlinearity=None) \n",
    "    return _fc1\n",
    "\n",
    "\n",
    "def model_2(__X): \n",
    "    '''\n",
    "    Multilayer perceptron (rectify nonlinearity) with one nonlinear layer and one final linear classifer layer.\n",
    "    '''\n",
    "    _input = L.InputLayer((None, npc, npx, npx), input_var=__X, name='X')\n",
    "    _fc1 = L.DenseLayer(_input, 2048, W=I.Normal(0.002), b=I.Constant(0.), nonlinearity=NL.rectify)\n",
    "    _fc2 = L.DenseLayer(_fc1, ny, W=I.Normal(0.02), b=I.Constant(0.), nonlinearity=None)\n",
    "    return _fc2"
   ]
  },
  {
   "cell_type": "code",
   "execution_count": 90,
   "metadata": {
    "collapsed": false
   },
   "outputs": [
    {
     "name": "stdout",
     "output_type": "stream",
     "text": [
      "Layer\t: <lasagne.layers.input.InputLayer object at 0x7fc32bc75710>\n",
      "Name\t: X\n",
      "Type\t: <class 'lasagne.layers.input.InputLayer'>\n",
      "Shape\t: (None, 1, 28, 28)\n",
      "\n",
      "\n",
      "Layer\t: <lasagne.layers.dense.DenseLayer object at 0x7fc32bc75cd0>\n",
      "Name\t: None\n",
      "Type\t: <class 'lasagne.layers.dense.DenseLayer'>\n",
      "Shape\t: (None, 2048)\n",
      "Params\n",
      "        |-- W         : (784, 2048)\n",
      "        |-- b         : (2048,)\n",
      "\n",
      "\n",
      "Layer\t: <lasagne.layers.dense.DenseLayer object at 0x7fc32bc75090>\n",
      "Name\t: None\n",
      "Type\t: <class 'lasagne.layers.dense.DenseLayer'>\n",
      "Shape\t: (None, 10)\n",
      "Params\n",
      "        |-- W         : (2048, 10)\n",
      "        |-- b         : (10,)\n",
      "\n",
      "\n",
      "[W, b, W, b]\n"
     ]
    }
   ],
   "source": [
    "_X = T.tensor4() # a theano variable representing the input data\n",
    "_Y = T.matrix()  # a theano variable representing the class label\n",
    "\n",
    "_cls = model_2(_X)\n",
    "\n",
    "# Look at the details of the network input, output and filter shapes\n",
    "print_lasagne_net(_cls, skipnoparam=True)\n",
    "\n",
    "cls_params = L.get_all_params(_cls, trainable=True)\n",
    "print cls_params"
   ]
  },
  {
   "cell_type": "markdown",
   "metadata": {},
   "source": [
    "# Step 2) Define the loss function and compile the theano expressions"
   ]
  },
  {
   "cell_type": "code",
   "execution_count": 91,
   "metadata": {
    "collapsed": true
   },
   "outputs": [],
   "source": [
    "def loss(__y_bar, __y):\n",
    "    '''The loss function used to train the network -- tells what is good and what is bad'''\n",
    "    return O.squared_error(__y_bar, __y).mean()"
   ]
  },
  {
   "cell_type": "markdown",
   "metadata": {},
   "source": [
    "### The following block of code compiles our training expressions. The important part are the functions that results:\n",
    "cls_trn_fn(X, Y): The classifier training function. It takes a batch of sample data point and labels as input and performs gradient descent on the parameters (all of them!) of our network. It returns the loss and accuracy on that batch.\n",
    "\n",
    "cls_val_fn(X, Y): The classifier validation function. It takes a batch of sample data point and labels as input and returns the loss and accuracy on that batch.\n",
    "\n",
    "cls_pred_fn(X): For a batch of sample data point, return the predicted label i.e. the one corresponding to the maximum network output value."
   ]
  },
  {
   "cell_type": "code",
   "execution_count": 92,
   "metadata": {
    "collapsed": false
   },
   "outputs": [
    {
     "name": "stdout",
     "output_type": "stream",
     "text": [
      "COMPILING\n",
      "0.80 seconds to compile theano functions\n"
     ]
    }
   ],
   "source": [
    "_lr = theano.shared(fpX(0))\n",
    "_l2 = theano.shared(fpX(0))\n",
    "\n",
    "_cls_reg = _l2 * R.regularize_layer_params(_cls, R.l2) # regularization loss\n",
    "_cls_trn_pred = L.get_output(_cls, deterministic=False) # training prediction\n",
    "_cls_trn_loss = loss(_cls_trn_pred, _Y) + _cls_reg # total training loss\n",
    "_cls_trn_acc = T.mean(T.eq(T.argmax(_cls_trn_pred, axis=1), T.argmax(_Y, axis=1)), dtype=theano.config.floatX) # validation accuracies\n",
    "\n",
    "_cls_val_pred = L.get_output(_cls, deterministic=True) #validation prediction\n",
    "_cls_val_loss = loss(_cls_val_pred, _Y) + _cls_reg # total validation loss\n",
    "_cls_val_acc = T.mean(T.eq(T.argmax(_cls_val_pred, axis=1), T.argmax(_Y, axis=1)), dtype=theano.config.floatX) # validation accuracies\n",
    "\n",
    "_class = T.argmax(_cls_val_pred, axis=1)\n",
    "\n",
    "cls_updates = lasagne.updates.sgd(_cls_trn_loss, cls_params, learning_rate=_lr) \n",
    "cls_updates = lasagne.updates.apply_momentum(cls_updates, cls_params, momentum=0.9)\n",
    "\n",
    "print 'COMPILING'\n",
    "t = time.time()\n",
    "cls_trn_fn = theano.function([_X, _Y], [_cls_trn_loss, _cls_trn_acc], updates=cls_updates)\n",
    "cls_val_fn = theano.function([_X, _Y], [_cls_val_loss, _cls_val_acc])\n",
    "cls_pred_fn = theano.function([_X], _class)\n",
    "print '%.2f seconds to compile theano functions'%(time.time()-t)"
   ]
  },
  {
   "cell_type": "markdown",
   "metadata": {},
   "source": [
    "# Step 3 & 4) Training and validating the model. \n",
    "\n",
    "-Note that the parameter initialization, which is very important for training success, was defined when we defined the network and the values were initialized at compilation time.\n",
    "\n",
    "-We decrease learning rate by 'perc_decay'% every epoch after 'niter' epoch at initial rate 'lr'. This is to \"fine tune\" the learning process toward the end, and is known as learning rate decay.\n",
    "\n",
    "-We record the history of the training and validation accuracies."
   ]
  },
  {
   "cell_type": "code",
   "execution_count": 93,
   "metadata": {
    "collapsed": false
   },
   "outputs": [
    {
     "name": "stderr",
     "output_type": "stream",
     "text": [
      "60it [00:00, 164.78it/s]"
     ]
    },
    {
     "name": "stdout",
     "output_type": "stream",
     "text": [
      "\n",
      "  Epoch 1 of 100 took 0.640s\n",
      "  training loss:       0.033677\n",
      "  training accuracy:   86.69 %\n",
      "  validation loss:     0.034110\n",
      "  validation accuracy: 86.57 %\n"
     ]
    },
    {
     "name": "stderr",
     "output_type": "stream",
     "text": [
      "\n",
      "60it [00:00, 162.96it/s]"
     ]
    },
    {
     "name": "stdout",
     "output_type": "stream",
     "text": [
      "\n",
      "  Epoch 2 of 100 took 0.625s\n",
      "  training loss:       0.021471\n",
      "  training accuracy:   90.75 %\n",
      "  validation loss:     0.021966\n",
      "  validation accuracy: 90.45 %\n"
     ]
    },
    {
     "name": "stderr",
     "output_type": "stream",
     "text": [
      "\n",
      "60it [00:00, 151.58it/s]"
     ]
    },
    {
     "name": "stdout",
     "output_type": "stream",
     "text": [
      "\n",
      "  Epoch 3 of 100 took 0.602s\n",
      "  training loss:       0.017724\n",
      "  training accuracy:   92.44 %\n",
      "  validation loss:     0.018265\n",
      "  validation accuracy: 92.21 %\n"
     ]
    },
    {
     "name": "stderr",
     "output_type": "stream",
     "text": [
      "\n",
      "60it [00:00, 153.04it/s]"
     ]
    },
    {
     "name": "stdout",
     "output_type": "stream",
     "text": [
      "\n",
      "  Epoch 4 of 100 took 0.617s\n",
      "  training loss:       0.015807\n",
      "  training accuracy:   93.38 %\n",
      "  validation loss:     0.016363\n",
      "  validation accuracy: 93.31 %\n"
     ]
    },
    {
     "name": "stderr",
     "output_type": "stream",
     "text": [
      "\n",
      "60it [00:00, 167.60it/s]"
     ]
    },
    {
     "name": "stdout",
     "output_type": "stream",
     "text": [
      "\n",
      "  Epoch 5 of 100 took 0.560s\n",
      "  training loss:       0.014480\n",
      "  training accuracy:   94.14 %\n",
      "  validation loss:     0.015059\n",
      "  validation accuracy: 94.08 %\n"
     ]
    },
    {
     "name": "stderr",
     "output_type": "stream",
     "text": [
      "\n",
      "60it [00:00, 170.81it/s]"
     ]
    },
    {
     "name": "stdout",
     "output_type": "stream",
     "text": [
      "\n",
      "  Epoch 6 of 100 took 0.567s\n",
      "  training loss:       0.013432\n",
      "  training accuracy:   94.74 %\n",
      "  validation loss:     0.014042\n",
      "  validation accuracy: 94.62 %\n"
     ]
    },
    {
     "name": "stderr",
     "output_type": "stream",
     "text": [
      "\n",
      "60it [00:00, 153.21it/s]"
     ]
    },
    {
     "name": "stdout",
     "output_type": "stream",
     "text": [
      "\n",
      "  Epoch 7 of 100 took 0.601s\n",
      "  training loss:       0.012575\n",
      "  training accuracy:   95.31 %\n",
      "  validation loss:     0.013220\n",
      "  validation accuracy: 95.06 %\n"
     ]
    },
    {
     "name": "stderr",
     "output_type": "stream",
     "text": [
      "\n",
      "60it [00:00, 158.20it/s]"
     ]
    },
    {
     "name": "stdout",
     "output_type": "stream",
     "text": [
      "\n",
      "  Epoch 8 of 100 took 0.596s\n",
      "  training loss:       0.011855\n",
      "  training accuracy:   95.68 %\n",
      "  validation loss:     0.012539\n",
      "  validation accuracy: 95.39 %\n"
     ]
    },
    {
     "name": "stderr",
     "output_type": "stream",
     "text": [
      "\n",
      "60it [00:00, 170.62it/s]"
     ]
    },
    {
     "name": "stdout",
     "output_type": "stream",
     "text": [
      "\n",
      "  Epoch 9 of 100 took 0.549s\n",
      "  training loss:       0.011232\n",
      "  training accuracy:   96.00 %\n",
      "  validation loss:     0.011954\n",
      "  validation accuracy: 95.71 %\n"
     ]
    },
    {
     "name": "stderr",
     "output_type": "stream",
     "text": [
      "\n",
      "60it [00:00, 147.60it/s]"
     ]
    },
    {
     "name": "stdout",
     "output_type": "stream",
     "text": [
      "\n",
      "  Epoch 10 of 100 took 0.617s\n",
      "  training loss:       0.010695\n",
      "  training accuracy:   96.33 %\n",
      "  validation loss:     0.011449\n",
      "  validation accuracy: 95.94 %\n"
     ]
    },
    {
     "name": "stderr",
     "output_type": "stream",
     "text": [
      "\n",
      "60it [00:00, 152.64it/s]"
     ]
    },
    {
     "name": "stdout",
     "output_type": "stream",
     "text": [
      "\n",
      "  Epoch 11 of 100 took 0.619s\n",
      "  training loss:       0.010238\n",
      "  training accuracy:   96.59 %\n",
      "  validation loss:     0.011019\n",
      "  validation accuracy: 96.04 %\n"
     ]
    },
    {
     "name": "stderr",
     "output_type": "stream",
     "text": [
      "\n",
      "60it [00:00, 167.73it/s]"
     ]
    },
    {
     "name": "stdout",
     "output_type": "stream",
     "text": [
      "\n",
      "  Epoch 12 of 100 took 0.569s\n",
      "  training loss:       0.009857\n",
      "  training accuracy:   96.85 %\n",
      "  validation loss:     0.010668\n",
      "  validation accuracy: 96.20 %\n"
     ]
    },
    {
     "name": "stderr",
     "output_type": "stream",
     "text": [
      "\n",
      "60it [00:00, 152.44it/s]"
     ]
    },
    {
     "name": "stdout",
     "output_type": "stream",
     "text": [
      "\n",
      "  Epoch 13 of 100 took 0.616s\n",
      "  training loss:       0.009519\n",
      "  training accuracy:   97.01 %\n",
      "  validation loss:     0.010359\n",
      "  validation accuracy: 96.31 %\n"
     ]
    },
    {
     "name": "stderr",
     "output_type": "stream",
     "text": [
      "\n",
      "60it [00:00, 170.67it/s]"
     ]
    },
    {
     "name": "stdout",
     "output_type": "stream",
     "text": [
      "\n",
      "  Epoch 14 of 100 took 0.549s\n",
      "  training loss:       0.009205\n",
      "  training accuracy:   97.16 %\n",
      "  validation loss:     0.010075\n",
      "  validation accuracy: 96.50 %\n"
     ]
    },
    {
     "name": "stderr",
     "output_type": "stream",
     "text": [
      "\n",
      "60it [00:00, 137.84it/s]"
     ]
    },
    {
     "name": "stdout",
     "output_type": "stream",
     "text": [
      "\n",
      "  Epoch 15 of 100 took 0.654s\n",
      "  training loss:       0.008914\n",
      "  training accuracy:   97.30 %\n",
      "  validation loss:     0.009816\n",
      "  validation accuracy: 96.63 %\n"
     ]
    },
    {
     "name": "stderr",
     "output_type": "stream",
     "text": [
      "\n",
      "60it [00:00, 167.88it/s]"
     ]
    },
    {
     "name": "stdout",
     "output_type": "stream",
     "text": [
      "\n",
      "  Epoch 16 of 100 took 0.568s\n",
      "  training loss:       0.008655\n",
      "  training accuracy:   97.40 %\n",
      "  validation loss:     0.009589\n",
      "  validation accuracy: 96.73 %\n"
     ]
    },
    {
     "name": "stderr",
     "output_type": "stream",
     "text": [
      "\n",
      "60it [00:00, 159.68it/s]"
     ]
    },
    {
     "name": "stdout",
     "output_type": "stream",
     "text": [
      "\n",
      "  Epoch 17 of 100 took 0.580s\n",
      "  training loss:       0.008398\n",
      "  training accuracy:   97.53 %\n",
      "  validation loss:     0.009365\n",
      "  validation accuracy: 96.89 %\n"
     ]
    },
    {
     "name": "stderr",
     "output_type": "stream",
     "text": [
      "\n",
      "60it [00:00, 171.72it/s]"
     ]
    },
    {
     "name": "stdout",
     "output_type": "stream",
     "text": [
      "\n",
      "  Epoch 18 of 100 took 0.564s\n",
      "  training loss:       0.008133\n",
      "  training accuracy:   97.61 %\n",
      "  validation loss:     0.009130\n",
      "  validation accuracy: 97.02 %\n"
     ]
    },
    {
     "name": "stderr",
     "output_type": "stream",
     "text": [
      "\n",
      "60it [00:00, 174.94it/s]"
     ]
    },
    {
     "name": "stdout",
     "output_type": "stream",
     "text": [
      "\n",
      "  Epoch 19 of 100 took 0.540s\n",
      "  training loss:       0.007873\n",
      "  training accuracy:   97.72 %\n",
      "  validation loss:     0.008896\n",
      "  validation accuracy: 97.08 %\n"
     ]
    },
    {
     "name": "stderr",
     "output_type": "stream",
     "text": [
      "\n",
      "60it [00:00, 174.92it/s]"
     ]
    },
    {
     "name": "stdout",
     "output_type": "stream",
     "text": [
      "\n",
      "  Epoch 20 of 100 took 0.559s\n",
      "  training loss:       0.007641\n",
      "  training accuracy:   97.82 %\n",
      "  validation loss:     0.008693\n",
      "  validation accuracy: 97.17 %\n"
     ]
    },
    {
     "name": "stderr",
     "output_type": "stream",
     "text": [
      "\n",
      "60it [00:00, 173.68it/s]"
     ]
    },
    {
     "name": "stdout",
     "output_type": "stream",
     "text": [
      "\n",
      "  Epoch 21 of 100 took 0.545s\n",
      "  training loss:       0.007444\n",
      "  training accuracy:   97.89 %\n",
      "  validation loss:     0.008525\n",
      "  validation accuracy: 97.28 %\n"
     ]
    },
    {
     "name": "stderr",
     "output_type": "stream",
     "text": [
      "\n",
      "60it [00:00, 174.51it/s]"
     ]
    },
    {
     "name": "stdout",
     "output_type": "stream",
     "text": [
      "\n",
      "  Epoch 22 of 100 took 0.560s\n",
      "  training loss:       0.007265\n",
      "  training accuracy:   97.97 %\n",
      "  validation loss:     0.008376\n",
      "  validation accuracy: 97.36 %\n"
     ]
    },
    {
     "name": "stderr",
     "output_type": "stream",
     "text": [
      "\n",
      "60it [00:00, 174.31it/s]"
     ]
    },
    {
     "name": "stdout",
     "output_type": "stream",
     "text": [
      "\n",
      "  Epoch 23 of 100 took 0.542s\n",
      "  training loss:       0.007091\n",
      "  training accuracy:   98.06 %\n",
      "  validation loss:     0.008230\n",
      "  validation accuracy: 97.39 %\n"
     ]
    },
    {
     "name": "stderr",
     "output_type": "stream",
     "text": [
      "\n",
      "60it [00:00, 165.43it/s]"
     ]
    },
    {
     "name": "stdout",
     "output_type": "stream",
     "text": [
      "\n",
      "  Epoch 24 of 100 took 0.560s\n",
      "  training loss:       0.006930\n",
      "  training accuracy:   98.13 %\n",
      "  validation loss:     0.008100\n",
      "  validation accuracy: 97.43 %\n"
     ]
    },
    {
     "name": "stderr",
     "output_type": "stream",
     "text": [
      "\n",
      "60it [00:00, 174.55it/s]"
     ]
    },
    {
     "name": "stdout",
     "output_type": "stream",
     "text": [
      "\n",
      "  Epoch 25 of 100 took 0.541s\n",
      "  training loss:       0.006783\n",
      "  training accuracy:   98.19 %\n",
      "  validation loss:     0.007981\n",
      "  validation accuracy: 97.49 %\n"
     ]
    },
    {
     "name": "stderr",
     "output_type": "stream",
     "text": [
      "\n",
      "60it [00:00, 161.32it/s]"
     ]
    },
    {
     "name": "stdout",
     "output_type": "stream",
     "text": [
      "\n",
      "  Epoch 26 of 100 took 0.570s\n",
      "  training loss:       0.006649\n",
      "  training accuracy:   98.25 %\n",
      "  validation loss:     0.007876\n",
      "  validation accuracy: 97.50 %\n"
     ]
    },
    {
     "name": "stderr",
     "output_type": "stream",
     "text": [
      "\n",
      "60it [00:00, 175.16it/s]"
     ]
    },
    {
     "name": "stdout",
     "output_type": "stream",
     "text": [
      "\n",
      "  Epoch 27 of 100 took 0.539s\n",
      "  training loss:       0.006528\n",
      "  training accuracy:   98.29 %\n",
      "  validation loss:     0.007780\n",
      "  validation accuracy: 97.50 %\n"
     ]
    },
    {
     "name": "stderr",
     "output_type": "stream",
     "text": [
      "\n",
      "60it [00:00, 165.58it/s]"
     ]
    },
    {
     "name": "stdout",
     "output_type": "stream",
     "text": [
      "\n",
      "  Epoch 28 of 100 took 0.560s\n",
      "  training loss:       0.006415\n",
      "  training accuracy:   98.35 %\n",
      "  validation loss:     0.007693\n",
      "  validation accuracy: 97.51 %\n"
     ]
    },
    {
     "name": "stderr",
     "output_type": "stream",
     "text": [
      "\n",
      "60it [00:00, 174.58it/s]"
     ]
    },
    {
     "name": "stdout",
     "output_type": "stream",
     "text": [
      "\n",
      "  Epoch 29 of 100 took 0.541s\n",
      "  training loss:       0.006308\n",
      "  training accuracy:   98.39 %\n",
      "  validation loss:     0.007610\n",
      "  validation accuracy: 97.55 %\n"
     ]
    },
    {
     "name": "stderr",
     "output_type": "stream",
     "text": [
      "\n",
      "60it [00:00, 165.24it/s]"
     ]
    },
    {
     "name": "stdout",
     "output_type": "stream",
     "text": [
      "\n",
      "  Epoch 30 of 100 took 0.563s\n",
      "  training loss:       0.006202\n",
      "  training accuracy:   98.44 %\n",
      "  validation loss:     0.007527\n",
      "  validation accuracy: 97.58 %\n"
     ]
    },
    {
     "name": "stderr",
     "output_type": "stream",
     "text": [
      "\n",
      "60it [00:00, 174.96it/s]"
     ]
    },
    {
     "name": "stdout",
     "output_type": "stream",
     "text": [
      "\n",
      "  Epoch 31 of 100 took 0.559s\n",
      "  training loss:       0.006099\n",
      "  training accuracy:   98.47 %\n",
      "  validation loss:     0.007449\n",
      "  validation accuracy: 97.62 %\n"
     ]
    },
    {
     "name": "stderr",
     "output_type": "stream",
     "text": [
      "\n",
      "60it [00:00, 174.71it/s]"
     ]
    },
    {
     "name": "stdout",
     "output_type": "stream",
     "text": [
      "\n",
      "  Epoch 32 of 100 took 0.541s\n",
      "  training loss:       0.006001\n",
      "  training accuracy:   98.51 %\n",
      "  validation loss:     0.007375\n",
      "  validation accuracy: 97.66 %\n"
     ]
    },
    {
     "name": "stderr",
     "output_type": "stream",
     "text": [
      "\n",
      "60it [00:00, 174.69it/s]"
     ]
    },
    {
     "name": "stdout",
     "output_type": "stream",
     "text": [
      "\n",
      "  Epoch 33 of 100 took 0.559s\n",
      "  training loss:       0.005903\n",
      "  training accuracy:   98.55 %\n",
      "  validation loss:     0.007301\n",
      "  validation accuracy: 97.68 %\n"
     ]
    },
    {
     "name": "stderr",
     "output_type": "stream",
     "text": [
      "\n",
      "60it [00:00, 174.66it/s]"
     ]
    },
    {
     "name": "stdout",
     "output_type": "stream",
     "text": [
      "\n",
      "  Epoch 34 of 100 took 0.540s\n",
      "  training loss:       0.005811\n",
      "  training accuracy:   98.59 %\n",
      "  validation loss:     0.007235\n",
      "  validation accuracy: 97.74 %\n"
     ]
    },
    {
     "name": "stderr",
     "output_type": "stream",
     "text": [
      "\n",
      "60it [00:00, 174.71it/s]"
     ]
    },
    {
     "name": "stdout",
     "output_type": "stream",
     "text": [
      "\n",
      "  Epoch 35 of 100 took 0.560s\n",
      "  training loss:       0.005730\n",
      "  training accuracy:   98.64 %\n",
      "  validation loss:     0.007177\n",
      "  validation accuracy: 97.77 %\n"
     ]
    },
    {
     "name": "stderr",
     "output_type": "stream",
     "text": [
      "\n",
      "60it [00:00, 174.60it/s]"
     ]
    },
    {
     "name": "stdout",
     "output_type": "stream",
     "text": [
      "\n",
      "  Epoch 36 of 100 took 0.541s\n",
      "  training loss:       0.005661\n",
      "  training accuracy:   98.68 %\n",
      "  validation loss:     0.007132\n",
      "  validation accuracy: 97.80 %\n"
     ]
    },
    {
     "name": "stderr",
     "output_type": "stream",
     "text": [
      "\n",
      "60it [00:00, 164.85it/s]"
     ]
    },
    {
     "name": "stdout",
     "output_type": "stream",
     "text": [
      "\n",
      "  Epoch 37 of 100 took 0.562s\n",
      "  training loss:       0.005597\n",
      "  training accuracy:   98.72 %\n",
      "  validation loss:     0.007090\n",
      "  validation accuracy: 97.80 %\n"
     ]
    },
    {
     "name": "stderr",
     "output_type": "stream",
     "text": [
      "\n",
      "60it [00:00, 171.26it/s]"
     ]
    },
    {
     "name": "stdout",
     "output_type": "stream",
     "text": [
      "\n",
      "  Epoch 38 of 100 took 0.555s\n",
      "  training loss:       0.005540\n",
      "  training accuracy:   98.75 %\n",
      "  validation loss:     0.007055\n",
      "  validation accuracy: 97.82 %\n"
     ]
    },
    {
     "name": "stderr",
     "output_type": "stream",
     "text": [
      "\n",
      "60it [00:00, 163.55it/s]"
     ]
    },
    {
     "name": "stdout",
     "output_type": "stream",
     "text": [
      "\n",
      "  Epoch 39 of 100 took 0.571s\n",
      "  training loss:       0.005481\n",
      "  training accuracy:   98.78 %\n",
      "  validation loss:     0.007019\n",
      "  validation accuracy: 97.82 %\n"
     ]
    },
    {
     "name": "stderr",
     "output_type": "stream",
     "text": [
      "\n",
      "60it [00:00, 174.57it/s]"
     ]
    },
    {
     "name": "stdout",
     "output_type": "stream",
     "text": [
      "\n",
      "  Epoch 40 of 100 took 0.549s\n",
      "  training loss:       0.005420\n",
      "  training accuracy:   98.81 %\n",
      "  validation loss:     0.006980\n",
      "  validation accuracy: 97.86 %\n"
     ]
    },
    {
     "name": "stderr",
     "output_type": "stream",
     "text": [
      "\n",
      "60it [00:00, 165.65it/s]"
     ]
    },
    {
     "name": "stdout",
     "output_type": "stream",
     "text": [
      "\n",
      "  Epoch 41 of 100 took 0.559s\n",
      "  training loss:       0.005353\n",
      "  training accuracy:   98.84 %\n",
      "  validation loss:     0.006934\n",
      "  validation accuracy: 97.86 %\n"
     ]
    },
    {
     "name": "stderr",
     "output_type": "stream",
     "text": [
      "\n",
      "60it [00:00, 174.91it/s]"
     ]
    },
    {
     "name": "stdout",
     "output_type": "stream",
     "text": [
      "\n",
      "  Epoch 42 of 100 took 0.542s\n",
      "  training loss:       0.005281\n",
      "  training accuracy:   98.87 %\n",
      "  validation loss:     0.006883\n",
      "  validation accuracy: 97.87 %\n"
     ]
    },
    {
     "name": "stderr",
     "output_type": "stream",
     "text": [
      "\n",
      "60it [00:00, 151.77it/s]"
     ]
    },
    {
     "name": "stdout",
     "output_type": "stream",
     "text": [
      "\n",
      "  Epoch 43 of 100 took 0.594s\n",
      "  training loss:       0.005208\n",
      "  training accuracy:   98.89 %\n",
      "  validation loss:     0.006832\n",
      "  validation accuracy: 97.87 %\n"
     ]
    },
    {
     "name": "stderr",
     "output_type": "stream",
     "text": [
      "\n",
      "60it [00:00, 174.35it/s]"
     ]
    },
    {
     "name": "stdout",
     "output_type": "stream",
     "text": [
      "\n",
      "  Epoch 44 of 100 took 0.664s\n",
      "  training loss:       0.005141\n",
      "  training accuracy:   98.92 %\n",
      "  validation loss:     0.006786\n",
      "  validation accuracy: 97.88 %\n"
     ]
    },
    {
     "name": "stderr",
     "output_type": "stream",
     "text": [
      "\n",
      "60it [00:00, 166.84it/s]"
     ]
    },
    {
     "name": "stdout",
     "output_type": "stream",
     "text": [
      "\n",
      "  Epoch 45 of 100 took 0.566s\n",
      "  training loss:       0.005074\n",
      "  training accuracy:   98.94 %\n",
      "  validation loss:     0.006740\n",
      "  validation accuracy: 97.87 %\n"
     ]
    },
    {
     "name": "stderr",
     "output_type": "stream",
     "text": [
      "\n",
      "60it [00:00, 160.43it/s]"
     ]
    },
    {
     "name": "stdout",
     "output_type": "stream",
     "text": [
      "\n",
      "  Epoch 46 of 100 took 0.581s\n",
      "  training loss:       0.005007\n",
      "  training accuracy:   98.95 %\n",
      "  validation loss:     0.006695\n",
      "  validation accuracy: 97.86 %\n"
     ]
    },
    {
     "name": "stderr",
     "output_type": "stream",
     "text": [
      "\n",
      "60it [00:00, 168.28it/s]"
     ]
    },
    {
     "name": "stdout",
     "output_type": "stream",
     "text": [
      "\n",
      "  Epoch 47 of 100 took 0.600s\n",
      "  training loss:       0.004934\n",
      "  training accuracy:   98.98 %\n",
      "  validation loss:     0.006643\n",
      "  validation accuracy: 97.90 %\n"
     ]
    },
    {
     "name": "stderr",
     "output_type": "stream",
     "text": [
      "\n",
      "60it [00:00, 158.48it/s]"
     ]
    },
    {
     "name": "stdout",
     "output_type": "stream",
     "text": [
      "\n",
      "  Epoch 48 of 100 took 0.586s\n",
      "  training loss:       0.004857\n",
      "  training accuracy:   99.01 %\n",
      "  validation loss:     0.006586\n",
      "  validation accuracy: 97.91 %\n"
     ]
    },
    {
     "name": "stderr",
     "output_type": "stream",
     "text": [
      "\n",
      "60it [00:00, 169.55it/s]"
     ]
    },
    {
     "name": "stdout",
     "output_type": "stream",
     "text": [
      "\n",
      "  Epoch 49 of 100 took 0.583s\n",
      "  training loss:       0.004790\n",
      "  training accuracy:   99.02 %\n",
      "  validation loss:     0.006538\n",
      "  validation accuracy: 97.91 %\n"
     ]
    },
    {
     "name": "stderr",
     "output_type": "stream",
     "text": [
      "\n",
      "60it [00:00, 161.92it/s]"
     ]
    },
    {
     "name": "stdout",
     "output_type": "stream",
     "text": [
      "\n",
      "  Epoch 50 of 100 took 0.577s\n",
      "  training loss:       0.004723\n",
      "  training accuracy:   99.05 %\n",
      "  validation loss:     0.006490\n",
      "  validation accuracy: 97.91 %\n"
     ]
    },
    {
     "name": "stderr",
     "output_type": "stream",
     "text": [
      "\n",
      "60it [00:00, 138.14it/s]"
     ]
    },
    {
     "name": "stdout",
     "output_type": "stream",
     "text": [
      "\n",
      "  Epoch 51 of 100 took 0.649s\n",
      "  training loss:       0.004659\n",
      "  training accuracy:   99.08 %\n",
      "  validation loss:     0.006445\n",
      "  validation accuracy: 97.94 %\n"
     ]
    },
    {
     "name": "stderr",
     "output_type": "stream",
     "text": [
      "\n",
      "60it [00:00, 168.79it/s]"
     ]
    },
    {
     "name": "stdout",
     "output_type": "stream",
     "text": [
      "\n",
      "  Epoch 52 of 100 took 0.562s\n",
      "  training loss:       0.004597\n",
      "  training accuracy:   99.10 %\n",
      "  validation loss:     0.006401\n",
      "  validation accuracy: 97.97 %\n"
     ]
    },
    {
     "name": "stderr",
     "output_type": "stream",
     "text": [
      "\n",
      "60it [00:00, 163.70it/s]"
     ]
    },
    {
     "name": "stdout",
     "output_type": "stream",
     "text": [
      "\n",
      "  Epoch 53 of 100 took 0.564s\n",
      "  training loss:       0.004542\n",
      "  training accuracy:   99.12 %\n",
      "  validation loss:     0.006365\n",
      "  validation accuracy: 97.97 %\n"
     ]
    },
    {
     "name": "stderr",
     "output_type": "stream",
     "text": [
      "\n",
      "60it [00:00, 174.28it/s]"
     ]
    },
    {
     "name": "stdout",
     "output_type": "stream",
     "text": [
      "\n",
      "  Epoch 54 of 100 took 0.542s\n",
      "  training loss:       0.004488\n",
      "  training accuracy:   99.14 %\n",
      "  validation loss:     0.006329\n",
      "  validation accuracy: 97.98 %\n"
     ]
    },
    {
     "name": "stderr",
     "output_type": "stream",
     "text": [
      "\n",
      "60it [00:00, 148.74it/s]"
     ]
    },
    {
     "name": "stdout",
     "output_type": "stream",
     "text": [
      "\n",
      "  Epoch 55 of 100 took 0.601s\n",
      "  training loss:       0.004436\n",
      "  training accuracy:   99.16 %\n",
      "  validation loss:     0.006295\n",
      "  validation accuracy: 98.01 %\n"
     ]
    },
    {
     "name": "stderr",
     "output_type": "stream",
     "text": [
      "\n",
      "60it [00:00, 174.06it/s]"
     ]
    },
    {
     "name": "stdout",
     "output_type": "stream",
     "text": [
      "\n",
      "  Epoch 56 of 100 took 0.542s\n",
      "  training loss:       0.004381\n",
      "  training accuracy:   99.19 %\n",
      "  validation loss:     0.006260\n",
      "  validation accuracy: 98.00 %\n"
     ]
    },
    {
     "name": "stderr",
     "output_type": "stream",
     "text": [
      "\n",
      "60it [00:00, 143.37it/s]"
     ]
    },
    {
     "name": "stdout",
     "output_type": "stream",
     "text": [
      "\n",
      "  Epoch 57 of 100 took 0.619s\n",
      "  training loss:       0.004329\n",
      "  training accuracy:   99.20 %\n",
      "  validation loss:     0.006226\n",
      "  validation accuracy: 98.04 %\n"
     ]
    },
    {
     "name": "stderr",
     "output_type": "stream",
     "text": [
      "\n",
      "60it [00:00, 173.39it/s]"
     ]
    },
    {
     "name": "stdout",
     "output_type": "stream",
     "text": [
      "\n",
      "  Epoch 58 of 100 took 0.578s\n",
      "  training loss:       0.004287\n",
      "  training accuracy:   99.22 %\n",
      "  validation loss:     0.006203\n",
      "  validation accuracy: 98.04 %\n"
     ]
    },
    {
     "name": "stderr",
     "output_type": "stream",
     "text": [
      "\n",
      "60it [00:00, 171.99it/s]"
     ]
    },
    {
     "name": "stdout",
     "output_type": "stream",
     "text": [
      "\n",
      "  Epoch 59 of 100 took 0.549s\n",
      "  training loss:       0.004237\n",
      "  training accuracy:   99.24 %\n",
      "  validation loss:     0.006172\n",
      "  validation accuracy: 98.05 %\n"
     ]
    },
    {
     "name": "stderr",
     "output_type": "stream",
     "text": [
      "\n",
      "60it [00:00, 150.02it/s]"
     ]
    },
    {
     "name": "stdout",
     "output_type": "stream",
     "text": [
      "\n",
      "  Epoch 60 of 100 took 0.619s\n",
      "  training loss:       0.004192\n",
      "  training accuracy:   99.26 %\n",
      "  validation loss:     0.006146\n",
      "  validation accuracy: 98.06 %\n"
     ]
    },
    {
     "name": "stderr",
     "output_type": "stream",
     "text": [
      "\n",
      "60it [00:00, 168.57it/s]"
     ]
    },
    {
     "name": "stdout",
     "output_type": "stream",
     "text": [
      "\n",
      "  Epoch 61 of 100 took 0.563s\n",
      "  training loss:       0.004152\n",
      "  training accuracy:   99.27 %\n",
      "  validation loss:     0.006123\n",
      "  validation accuracy: 98.07 %\n"
     ]
    },
    {
     "name": "stderr",
     "output_type": "stream",
     "text": [
      "\n",
      "60it [00:00, 161.81it/s]"
     ]
    },
    {
     "name": "stdout",
     "output_type": "stream",
     "text": [
      "\n",
      "  Epoch 62 of 100 took 0.572s\n",
      "  training loss:       0.004116\n",
      "  training accuracy:   99.29 %\n",
      "  validation loss:     0.006105\n",
      "  validation accuracy: 98.09 %\n"
     ]
    },
    {
     "name": "stderr",
     "output_type": "stream",
     "text": [
      "\n",
      "60it [00:00, 173.69it/s]"
     ]
    },
    {
     "name": "stdout",
     "output_type": "stream",
     "text": [
      "\n",
      "  Epoch 63 of 100 took 0.544s\n",
      "  training loss:       0.004079\n",
      "  training accuracy:   99.31 %\n",
      "  validation loss:     0.006086\n",
      "  validation accuracy: 98.10 %\n"
     ]
    },
    {
     "name": "stderr",
     "output_type": "stream",
     "text": [
      "\n",
      "60it [00:00, 135.89it/s]"
     ]
    },
    {
     "name": "stdout",
     "output_type": "stream",
     "text": [
      "\n",
      "  Epoch 64 of 100 took 0.661s\n",
      "  training loss:       0.004049\n",
      "  training accuracy:   99.33 %\n",
      "  validation loss:     0.006074\n",
      "  validation accuracy: 98.11 %\n"
     ]
    },
    {
     "name": "stderr",
     "output_type": "stream",
     "text": [
      "\n",
      "60it [00:00, 168.15it/s]"
     ]
    },
    {
     "name": "stdout",
     "output_type": "stream",
     "text": [
      "\n",
      "  Epoch 65 of 100 took 0.632s\n",
      "  training loss:       0.004013\n",
      "  training accuracy:   99.34 %\n",
      "  validation loss:     0.006056\n",
      "  validation accuracy: 98.11 %\n"
     ]
    },
    {
     "name": "stderr",
     "output_type": "stream",
     "text": [
      "\n",
      "60it [00:00, 162.29it/s]"
     ]
    },
    {
     "name": "stdout",
     "output_type": "stream",
     "text": [
      "\n",
      "  Epoch 66 of 100 took 0.580s\n",
      "  training loss:       0.003980\n",
      "  training accuracy:   99.34 %\n",
      "  validation loss:     0.006040\n",
      "  validation accuracy: 98.11 %\n"
     ]
    },
    {
     "name": "stderr",
     "output_type": "stream",
     "text": [
      "\n",
      "60it [00:00, 160.13it/s]"
     ]
    },
    {
     "name": "stdout",
     "output_type": "stream",
     "text": [
      "\n",
      "  Epoch 67 of 100 took 0.576s\n",
      "  training loss:       0.003940\n",
      "  training accuracy:   99.36 %\n",
      "  validation loss:     0.006017\n",
      "  validation accuracy: 98.11 %\n"
     ]
    },
    {
     "name": "stderr",
     "output_type": "stream",
     "text": [
      "\n",
      "60it [00:00, 172.64it/s]"
     ]
    },
    {
     "name": "stdout",
     "output_type": "stream",
     "text": [
      "\n",
      "  Epoch 68 of 100 took 0.552s\n",
      "  training loss:       0.003928\n",
      "  training accuracy:   99.37 %\n",
      "  validation loss:     0.006022\n",
      "  validation accuracy: 98.11 %\n"
     ]
    },
    {
     "name": "stderr",
     "output_type": "stream",
     "text": [
      "\n",
      "60it [00:00, 166.29it/s]"
     ]
    },
    {
     "name": "stdout",
     "output_type": "stream",
     "text": [
      "\n",
      "  Epoch 69 of 100 took 0.560s\n",
      "  training loss:       0.003900\n",
      "  training accuracy:   99.38 %\n",
      "  validation loss:     0.006012\n",
      "  validation accuracy: 98.11 %\n"
     ]
    },
    {
     "name": "stderr",
     "output_type": "stream",
     "text": [
      "\n",
      "60it [00:00, 172.77it/s]"
     ]
    },
    {
     "name": "stdout",
     "output_type": "stream",
     "text": [
      "\n",
      "  Epoch 70 of 100 took 0.547s\n",
      "  training loss:       0.003853\n",
      "  training accuracy:   99.41 %\n",
      "  validation loss:     0.005983\n",
      "  validation accuracy: 98.11 %\n"
     ]
    },
    {
     "name": "stderr",
     "output_type": "stream",
     "text": [
      "\n",
      "60it [00:00, 164.38it/s]"
     ]
    },
    {
     "name": "stdout",
     "output_type": "stream",
     "text": [
      "\n",
      "  Epoch 71 of 100 took 0.564s\n",
      "  training loss:       0.003786\n",
      "  training accuracy:   99.42 %\n",
      "  validation loss:     0.005934\n",
      "  validation accuracy: 98.14 %\n"
     ]
    },
    {
     "name": "stderr",
     "output_type": "stream",
     "text": [
      "\n",
      "60it [00:00, 172.95it/s]"
     ]
    },
    {
     "name": "stdout",
     "output_type": "stream",
     "text": [
      "\n",
      "  Epoch 72 of 100 took 0.561s\n",
      "  training loss:       0.003742\n",
      "  training accuracy:   99.42 %\n",
      "  validation loss:     0.005907\n",
      "  validation accuracy: 98.16 %\n"
     ]
    },
    {
     "name": "stderr",
     "output_type": "stream",
     "text": [
      "\n",
      "60it [00:00, 159.65it/s]"
     ]
    },
    {
     "name": "stdout",
     "output_type": "stream",
     "text": [
      "\n",
      "  Epoch 73 of 100 took 0.586s\n",
      "  training loss:       0.003732\n",
      "  training accuracy:   99.42 %\n",
      "  validation loss:     0.005912\n",
      "  validation accuracy: 98.16 %\n"
     ]
    },
    {
     "name": "stderr",
     "output_type": "stream",
     "text": [
      "\n",
      "60it [00:00, 168.45it/s]"
     ]
    },
    {
     "name": "stdout",
     "output_type": "stream",
     "text": [
      "\n",
      "  Epoch 74 of 100 took 0.574s\n",
      "  training loss:       0.003874\n",
      "  training accuracy:   99.43 %\n",
      "  validation loss:     0.006058\n",
      "  validation accuracy: 98.15 %\n"
     ]
    },
    {
     "name": "stderr",
     "output_type": "stream",
     "text": [
      "\n",
      "60it [00:00, 173.54it/s]"
     ]
    },
    {
     "name": "stdout",
     "output_type": "stream",
     "text": [
      "\n",
      "  Epoch 75 of 100 took 0.544s\n",
      "  training loss:       0.003806\n",
      "  training accuracy:   99.43 %\n",
      "  validation loss:     0.006007\n",
      "  validation accuracy: 98.19 %\n"
     ]
    },
    {
     "name": "stderr",
     "output_type": "stream",
     "text": [
      "\n",
      "60it [00:00, 151.16it/s]"
     ]
    },
    {
     "name": "stdout",
     "output_type": "stream",
     "text": [
      "\n",
      "  Epoch 76 of 100 took 0.600s\n",
      "  training loss:       0.003739\n",
      "  training accuracy:   99.46 %\n",
      "  validation loss:     0.005929\n",
      "  validation accuracy: 98.15 %\n"
     ]
    },
    {
     "name": "stderr",
     "output_type": "stream",
     "text": [
      "\n",
      "60it [00:00, 173.67it/s]"
     ]
    },
    {
     "name": "stdout",
     "output_type": "stream",
     "text": [
      "\n",
      "  Epoch 77 of 100 took 0.543s\n",
      "  training loss:       0.003692\n",
      "  training accuracy:   99.48 %\n",
      "  validation loss:     0.005915\n",
      "  validation accuracy: 98.15 %\n"
     ]
    },
    {
     "name": "stderr",
     "output_type": "stream",
     "text": [
      "\n",
      "60it [00:00, 163.96it/s]"
     ]
    },
    {
     "name": "stdout",
     "output_type": "stream",
     "text": [
      "\n",
      "  Epoch 78 of 100 took 0.565s\n",
      "  training loss:       0.003675\n",
      "  training accuracy:   99.49 %\n",
      "  validation loss:     0.005916\n",
      "  validation accuracy: 98.15 %\n"
     ]
    },
    {
     "name": "stderr",
     "output_type": "stream",
     "text": [
      "\n",
      "60it [00:00, 173.83it/s]"
     ]
    },
    {
     "name": "stdout",
     "output_type": "stream",
     "text": [
      "\n",
      "  Epoch 79 of 100 took 0.543s\n",
      "  training loss:       0.003640\n",
      "  training accuracy:   99.50 %\n",
      "  validation loss:     0.005899\n",
      "  validation accuracy: 98.17 %\n"
     ]
    },
    {
     "name": "stderr",
     "output_type": "stream",
     "text": [
      "\n",
      "60it [00:00, 149.40it/s]"
     ]
    },
    {
     "name": "stdout",
     "output_type": "stream",
     "text": [
      "\n",
      "  Epoch 80 of 100 took 0.609s\n",
      "  training loss:       0.003607\n",
      "  training accuracy:   99.50 %\n",
      "  validation loss:     0.005884\n",
      "  validation accuracy: 98.18 %\n"
     ]
    },
    {
     "name": "stderr",
     "output_type": "stream",
     "text": [
      "\n",
      "60it [00:00, 167.98it/s]"
     ]
    },
    {
     "name": "stdout",
     "output_type": "stream",
     "text": [
      "\n",
      "  Epoch 81 of 100 took 0.584s\n",
      "  training loss:       0.003577\n",
      "  training accuracy:   99.51 %\n",
      "  validation loss:     0.005870\n",
      "  validation accuracy: 98.18 %\n"
     ]
    },
    {
     "name": "stderr",
     "output_type": "stream",
     "text": [
      "\n",
      "60it [00:00, 174.10it/s]"
     ]
    },
    {
     "name": "stdout",
     "output_type": "stream",
     "text": [
      "\n",
      "  Epoch 82 of 100 took 0.543s\n",
      "  training loss:       0.003548\n",
      "  training accuracy:   99.51 %\n",
      "  validation loss:     0.005856\n",
      "  validation accuracy: 98.18 %\n"
     ]
    },
    {
     "name": "stderr",
     "output_type": "stream",
     "text": [
      "\n",
      "60it [00:00, 173.68it/s]"
     ]
    },
    {
     "name": "stdout",
     "output_type": "stream",
     "text": [
      "\n",
      "  Epoch 83 of 100 took 0.561s\n",
      "  training loss:       0.003511\n",
      "  training accuracy:   99.51 %\n",
      "  validation loss:     0.005836\n",
      "  validation accuracy: 98.18 %\n"
     ]
    },
    {
     "name": "stderr",
     "output_type": "stream",
     "text": [
      "\n",
      "60it [00:00, 174.11it/s]"
     ]
    },
    {
     "name": "stdout",
     "output_type": "stream",
     "text": [
      "\n",
      "  Epoch 84 of 100 took 0.543s\n",
      "  training loss:       0.003489\n",
      "  training accuracy:   99.52 %\n",
      "  validation loss:     0.005829\n",
      "  validation accuracy: 98.18 %\n"
     ]
    },
    {
     "name": "stderr",
     "output_type": "stream",
     "text": [
      "\n",
      "60it [00:00, 163.50it/s]"
     ]
    },
    {
     "name": "stdout",
     "output_type": "stream",
     "text": [
      "\n",
      "  Epoch 85 of 100 took 0.620s\n",
      "  training loss:       0.003457\n",
      "  training accuracy:   99.52 %\n",
      "  validation loss:     0.005814\n",
      "  validation accuracy: 98.20 %\n"
     ]
    },
    {
     "name": "stderr",
     "output_type": "stream",
     "text": [
      "\n",
      "60it [00:00, 168.09it/s]"
     ]
    },
    {
     "name": "stdout",
     "output_type": "stream",
     "text": [
      "\n",
      "  Epoch 86 of 100 took 0.565s\n",
      "  training loss:       0.003439\n",
      "  training accuracy:   99.54 %\n",
      "  validation loss:     0.005811\n",
      "  validation accuracy: 98.20 %\n"
     ]
    },
    {
     "name": "stderr",
     "output_type": "stream",
     "text": [
      "\n",
      "60it [00:00, 137.79it/s]"
     ]
    },
    {
     "name": "stdout",
     "output_type": "stream",
     "text": [
      "\n",
      "  Epoch 87 of 100 took 0.646s\n",
      "  training loss:       0.003404\n",
      "  training accuracy:   99.55 %\n",
      "  validation loss:     0.005793\n",
      "  validation accuracy: 98.21 %\n"
     ]
    },
    {
     "name": "stderr",
     "output_type": "stream",
     "text": [
      "\n",
      "60it [00:00, 165.35it/s]"
     ]
    },
    {
     "name": "stdout",
     "output_type": "stream",
     "text": [
      "\n",
      "  Epoch 88 of 100 took 0.592s\n",
      "  training loss:       0.003379\n",
      "  training accuracy:   99.55 %\n",
      "  validation loss:     0.005783\n",
      "  validation accuracy: 98.23 %\n"
     ]
    },
    {
     "name": "stderr",
     "output_type": "stream",
     "text": [
      "\n",
      "60it [00:00, 149.75it/s]"
     ]
    },
    {
     "name": "stdout",
     "output_type": "stream",
     "text": [
      "\n",
      "  Epoch 89 of 100 took 0.608s\n",
      "  training loss:       0.003357\n",
      "  training accuracy:   99.56 %\n",
      "  validation loss:     0.005776\n",
      "  validation accuracy: 98.25 %\n"
     ]
    },
    {
     "name": "stderr",
     "output_type": "stream",
     "text": [
      "\n",
      "60it [00:00, 168.68it/s]"
     ]
    },
    {
     "name": "stdout",
     "output_type": "stream",
     "text": [
      "\n",
      "  Epoch 90 of 100 took 0.598s\n",
      "  training loss:       0.003334\n",
      "  training accuracy:   99.57 %\n",
      "  validation loss:     0.005768\n",
      "  validation accuracy: 98.23 %\n"
     ]
    },
    {
     "name": "stderr",
     "output_type": "stream",
     "text": [
      "\n",
      "60it [00:00, 168.64it/s]"
     ]
    },
    {
     "name": "stdout",
     "output_type": "stream",
     "text": [
      "\n",
      "  Epoch 91 of 100 took 0.563s\n",
      "  training loss:       0.003307\n",
      "  training accuracy:   99.58 %\n",
      "  validation loss:     0.005755\n",
      "  validation accuracy: 98.24 %\n"
     ]
    },
    {
     "name": "stderr",
     "output_type": "stream",
     "text": [
      "\n",
      "60it [00:00, 152.84it/s]"
     ]
    },
    {
     "name": "stdout",
     "output_type": "stream",
     "text": [
      "\n",
      "  Epoch 92 of 100 took 0.600s\n",
      "  training loss:       0.003286\n",
      "  training accuracy:   99.59 %\n",
      "  validation loss:     0.005749\n",
      "  validation accuracy: 98.24 %\n"
     ]
    },
    {
     "name": "stderr",
     "output_type": "stream",
     "text": [
      "\n",
      "60it [00:00, 150.59it/s]"
     ]
    },
    {
     "name": "stdout",
     "output_type": "stream",
     "text": [
      "\n",
      "  Epoch 93 of 100 took 0.604s\n",
      "  training loss:       0.003264\n",
      "  training accuracy:   99.59 %\n",
      "  validation loss:     0.005741\n",
      "  validation accuracy: 98.26 %\n"
     ]
    },
    {
     "name": "stderr",
     "output_type": "stream",
     "text": [
      "\n",
      "60it [00:00, 159.80it/s]"
     ]
    },
    {
     "name": "stdout",
     "output_type": "stream",
     "text": [
      "\n",
      "  Epoch 94 of 100 took 0.582s\n",
      "  training loss:       0.003253\n",
      "  training accuracy:   99.60 %\n",
      "  validation loss:     0.005744\n",
      "  validation accuracy: 98.28 %\n"
     ]
    },
    {
     "name": "stderr",
     "output_type": "stream",
     "text": [
      "\n",
      "60it [00:00, 173.20it/s]"
     ]
    },
    {
     "name": "stdout",
     "output_type": "stream",
     "text": [
      "\n",
      "  Epoch 95 of 100 took 0.579s\n",
      "  training loss:       0.003228\n",
      "  training accuracy:   99.61 %\n",
      "  validation loss:     0.005732\n",
      "  validation accuracy: 98.28 %\n"
     ]
    },
    {
     "name": "stderr",
     "output_type": "stream",
     "text": [
      "\n",
      "60it [00:00, 153.43it/s]"
     ]
    },
    {
     "name": "stdout",
     "output_type": "stream",
     "text": [
      "\n",
      "  Epoch 96 of 100 took 0.598s\n",
      "  training loss:       0.003212\n",
      "  training accuracy:   99.62 %\n",
      "  validation loss:     0.005730\n",
      "  validation accuracy: 98.29 %\n"
     ]
    },
    {
     "name": "stderr",
     "output_type": "stream",
     "text": [
      "\n",
      "60it [00:00, 168.62it/s]"
     ]
    },
    {
     "name": "stdout",
     "output_type": "stream",
     "text": [
      "\n",
      "  Epoch 97 of 100 took 0.577s\n",
      "  training loss:       0.003208\n",
      "  training accuracy:   99.63 %\n",
      "  validation loss:     0.005737\n",
      "  validation accuracy: 98.28 %\n"
     ]
    },
    {
     "name": "stderr",
     "output_type": "stream",
     "text": [
      "\n",
      "60it [00:00, 173.43it/s]"
     ]
    },
    {
     "name": "stdout",
     "output_type": "stream",
     "text": [
      "\n",
      "  Epoch 98 of 100 took 0.543s\n",
      "  training loss:       0.003290\n",
      "  training accuracy:   99.63 %\n",
      "  validation loss:     0.005830\n",
      "  validation accuracy: 98.26 %\n"
     ]
    },
    {
     "name": "stderr",
     "output_type": "stream",
     "text": [
      "\n",
      "60it [00:00, 141.09it/s]"
     ]
    },
    {
     "name": "stdout",
     "output_type": "stream",
     "text": [
      "\n",
      "  Epoch 99 of 100 took 0.634s\n",
      "  training loss:       0.003324\n",
      "  training accuracy:   99.63 %\n",
      "  validation loss:     0.005877\n",
      "  validation accuracy: 98.29 %\n"
     ]
    },
    {
     "name": "stderr",
     "output_type": "stream",
     "text": [
      "\n",
      "60it [00:00, 167.35it/s]"
     ]
    },
    {
     "name": "stdout",
     "output_type": "stream",
     "text": [
      "\n",
      "  Epoch 100 of 100 took 0.559s\n",
      "  training loss:       0.003102\n",
      "  training accuracy:   99.64 %\n",
      "  validation loss:     0.005669\n",
      "  validation accuracy: 98.27 %\n"
     ]
    },
    {
     "name": "stderr",
     "output_type": "stream",
     "text": [
      "\n"
     ]
    }
   ],
   "source": [
    "lr = 2.   # initial learning rate for sgd\n",
    "l2 = 0.    # l2 weight decay\n",
    "niter = 100        # # of iter at starting learning rate\n",
    "perc_decay = 5.0 # # of iter to linearly decay learning rate to zero\n",
    "num_epochs = 100\n",
    "batch_size = 1000\n",
    "max_trn_size = 60000\n",
    "\n",
    "_lr.set_value(fpX(lr))\n",
    "_l2.set_value(fpX(l2))\n",
    "\n",
    "mnist_trn_emb_label = embedding(mnist_trn_label, ny)\n",
    "mnist_val_emb_label = embedding(mnist_val_label, ny)\n",
    "\n",
    "trn_hist = []\n",
    "val_hist = []\n",
    "\n",
    "for epoch in range(num_epochs):\n",
    "    # In each epoch, we do a full pass over the training data:\n",
    "    trn_err = 0\n",
    "    trn_acc = 0\n",
    "    trn_batches = 0\n",
    "    start_time = time.time()\n",
    "    for xb, yb in tqdm(iterate_minibatches(mnist_trn_data[:max_trn_size], mnist_trn_emb_label[:max_trn_size], batch_size, shuffle=False)):\n",
    "        _, _ = cls_trn_fn(xb, yb)\n",
    "    \n",
    "    for xb, yb in iterate_minibatches(mnist_trn_data[:max_trn_size], mnist_trn_emb_label[:max_trn_size], batch_size, shuffle=False):\n",
    "        err, acc = cls_val_fn(xb, yb)\n",
    "        trn_err += err\n",
    "        trn_acc += acc\n",
    "        trn_batches += 1\n",
    "    # And a full pass over the validation data:\n",
    "    val_err = 0\n",
    "    val_acc = 0\n",
    "    val_batches = 0\n",
    "    for xb, yb in iterate_minibatches(mnist_val_data, mnist_val_emb_label, batch_size, shuffle=False):\n",
    "        err, acc = cls_val_fn(xb, yb)\n",
    "        val_err += err\n",
    "        val_acc += acc\n",
    "        val_batches += 1\n",
    "\n",
    "    trn_hist += [trn_acc / trn_batches,]\n",
    "    val_hist += [val_acc / val_batches,]\n",
    "    # Then we print the results for this epoch:\n",
    "    print(\"\\n  Epoch {} of {} took {:.3f}s\".format(epoch + 1, num_epochs, time.time() - start_time))\n",
    "    print(\"  training loss:       {:.6f}\".format(trn_err / trn_batches))\n",
    "    print(\"  training accuracy:   {:.2f} %\".format(trn_acc / trn_batches * 100))\n",
    "    print(\"  validation loss:     {:.6f}\".format(val_err / val_batches))\n",
    "    print(\"  validation accuracy: {:.2f} %\".format(val_acc / val_batches * 100))\n",
    "    \n",
    "    if epoch > niter:\n",
    "        _lr.set_value(fpX(_lr.get_value() * (1.0 - perc_decay / 100.0)))     \n",
    "    sys.stdout.flush()"
   ]
  },
  {
   "cell_type": "markdown",
   "metadata": {},
   "source": [
    "## Plot the history of training and validation accuracies"
   ]
  },
  {
   "cell_type": "code",
   "execution_count": 94,
   "metadata": {
    "collapsed": false
   },
   "outputs": [
    {
     "data": {
      "image/png": "[encoded data removed]",
      "text/plain": [
       "<matplotlib.figure.Figure at 0x7fc32bc752d0>"
      ]
     },
     "metadata": {},
     "output_type": "display_data"
    }
   ],
   "source": [
    "plt.figure(figsize=(20,5))\n",
    "plt.plot(trn_hist, 'b', label='trn', lw=2)\n",
    "plt.plot(val_hist, 'r', label='val', lw=2)\n",
    "plt.axhline(1./ny, color='k', linestyle='--', label='chance')\n",
    "plt.xlabel('epoch')\n",
    "plt.ylabel('accuracy')\n",
    "plt.ylim(0., 1.0)\n",
    "plt.legend(bbox_to_anchor=(1., 0.4))\n",
    "plt.grid()"
   ]
  },
  {
   "cell_type": "markdown",
   "metadata": {},
   "source": [
    "## What to do if training fails?\n",
    "### Right now, we are doing training without most of the modern bells and whistles like momentum, dropout and other learning algorithms based on gradient descent that are more suitable for the problems at hand. But even with the basic toolbox, there is quite a lot we can do when training initially fails:\n",
    "1) Try different values of the learning rate: sometimes a value too low is as bad as a value that is too high\n",
    "\n",
    "2) Try changing the initial conditions. Sometimes its better to start at zero but certain nonlinearity will return singular results at this point, so it's not always an option.\n",
    "\n",
    "3) Try to change the batch size. The batch size adds some randomness to the gradient evaluation. A gradient that is close to zero in one batch may be large in another. However, if the batch size is too large it \"evens out\" the gradient which means it may be stuck for good for all batch in a local minimum. However, batches too small incur a cost in effectiveness of the algorithm and may not work well with more modern technique like batch-normalization.\n",
    "\n",
    "4) Play with the architecture.\n",
    "\n",
    "5) Detect failure early. This is why it is important to monitor the output of the network. One can ususally tell very quickly if things are working or not.\n",
    "\n",
    "6) Try adding momentum to the gradient descent if the validation accuracy seems stuck at a low value."
   ]
  },
  {
   "cell_type": "markdown",
   "metadata": {},
   "source": [
    "## Show an example case of the confusion matrix. What digits are most likely to be confused? Show some instance of this confusion."
   ]
  },
  {
   "cell_type": "code",
   "execution_count": 96,
   "metadata": {
    "collapsed": false
   },
   "outputs": [],
   "source": [
    "C = np.zeros(shape=(ny,ny))\n",
    "for xb, yb in iterate_minibatches(mnist_val_data, mnist_val_label, batch_size, shuffle=False):\n",
    "    ypb  = cls_pred_fn(xb)\n",
    "    yeb  = embedding(yb, ny)\n",
    "    yebp = embedding(ypb, ny)\n",
    "\n",
    "    C += np.dot(yeb.T, yebp)"
   ]
  },
  {
   "cell_type": "code",
   "execution_count": 97,
   "metadata": {
    "collapsed": false
   },
   "outputs": [
    {
     "data": {
      "text/plain": [
       "<matplotlib.text.Text at 0x7fc32bcd7f50>"
      ]
     },
     "execution_count": 97,
     "metadata": {},
     "output_type": "execute_result"
    },
    {
     "data": {
      "image/png": "[encoded data removed]",
      "text/plain": [
       "<matplotlib.figure.Figure at 0x7fc32bc85050>"
      ]
     },
     "metadata": {},
     "output_type": "display_data"
    }
   ],
   "source": [
    "from matplotlib.colors import LogNorm\n",
    "fig = plt.figure(figsize=(10,10))\n",
    "plt.imshow(C, cmap=cm.magma_r, norm=LogNorm(vmin=1, vmax=np.amax(C)), interpolation='None')\n",
    "plt.colorbar()\n",
    "plt.grid('off')\n",
    "plt.ylabel('Actual')\n",
    "plt.xlabel('Predicted')"
   ]
  },
  {
   "cell_type": "code",
   "execution_count": 49,
   "metadata": {
    "collapsed": false
   },
   "outputs": [
    {
     "name": "stdout",
     "output_type": "stream",
     "text": [
      "Overall classification accuracy = 95.0%\n"
     ]
    }
   ],
   "source": [
    "print \"Overall classification accuracy = %.1f%%\" % (np.trace(C, dtype=fpX) * 100. / len(mnist_val_data))"
   ]
  },
  {
   "cell_type": "markdown",
   "metadata": {
    "collapsed": true
   },
   "source": [
    "## Get the learned parameter values"
   ]
  },
  {
   "cell_type": "code",
   "execution_count": null,
   "metadata": {
    "collapsed": true
   },
   "outputs": [],
   "source": [
    "# get the parameter values into numpy array\n",
    "params = [p.get_value() for p in cls_params]\n",
    "print params[0].shape"
   ]
  },
  {
   "cell_type": "markdown",
   "metadata": {},
   "source": [
    "## Do something with the parameters..."
   ]
  },
  {
   "cell_type": "code",
   "execution_count": null,
   "metadata": {
    "collapsed": true
   },
   "outputs": [],
   "source": []
  }
 ],
 "metadata": {
  "kernelspec": {
   "display_name": "Python 2",
   "language": "python",
   "name": "python2"
  },
  "language_info": {
   "codemirror_mode": {
    "name": "ipython",
    "version": 2
   },
   "file_extension": ".py",
   "mimetype": "text/x-python",
   "name": "python",
   "nbconvert_exporter": "python",
   "pygments_lexer": "ipython2",
   "version": "2.7.6"
  }
 },
 "nbformat": 4,
 "nbformat_minor": 0
}
