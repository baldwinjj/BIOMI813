{
 "cells": [
  {
   "cell_type": "markdown",
   "metadata": {},
   "source": [
    "# CSCI 490 - Computer Vision \n",
    "# BIOMI 813 - Pattern recognition and machine learning\n",
    "---\n",
    "## Deep learning: Practical linear and nonlinear classifier training on MNIST \n",
    "## a.k.a. Dr. Perceptron"
   ]
  },
  {
   "cell_type": "markdown",
   "metadata": {},
   "source": [
    "<img src=\"img/Dr._Perceptron.jpg\",width=520, align=left>"
   ]
  },
  {
   "cell_type": "code",
   "execution_count": 1,
   "metadata": {
    "collapsed": false
   },
   "outputs": [
    {
     "name": "stdout",
     "output_type": "stream",
     "text": [
      "Couldn't import dot_parser, loading of dot files will not be possible.\n"
     ]
    },
    {
     "name": "stderr",
     "output_type": "stream",
     "text": [
      "Using gpu device 0: GeForce GTX TITAN X (CNMeM is disabled, cuDNN 5103)\n",
      "/usr/local/lib/python2.7/dist-packages/theano/sandbox/cuda/__init__.py:600: UserWarning: Your cuDNN version is more recent than the one Theano officially supports. If you see any problems, try updating Theano or downgrading cuDNN to version 5.\n",
      "  warnings.warn(warn)\n"
     ]
    }
   ],
   "source": [
    "import os\n",
    "import sys\n",
    "import time\n",
    "import struct\n",
    "import numpy as np\n",
    "from tqdm import tqdm\n",
    "import pickle\n",
    "import matplotlib.pyplot as plt\n",
    "from matplotlib.pyplot import cm \n",
    "import seaborn as sns\n",
    "%matplotlib inline\n",
    "\n",
    "import theano\n",
    "import theano.tensor as T\n",
    "\n",
    "import lasagne\n",
    "import lasagne.layers as L\n",
    "import lasagne.regularization as R\n",
    "import lasagne.nonlinearities as NL\n",
    "import lasagne.objectives as O\n",
    "import lasagne.init as I\n",
    "\n",
    "fpX = np.float32\n",
    "from loadMNIST import LoadMNIST"
   ]
  },
  {
   "cell_type": "code",
   "execution_count": 2,
   "metadata": {
    "collapsed": false
   },
   "outputs": [],
   "source": [
    "sns.axes_style()\n",
    "sns.set_style(\"whitegrid\", {\"axes.facecolor\": '.95'})\n",
    "sns.set_context(\"notebook\", rc={'axes.labelsize': 18.0, 'axes.titlesize': 24.0, 'legend.fontsize': 18.0, 'xtick.labelsize': 18.0, 'ytick.labelsize': 18.0})\n",
    "sns.set_palette(\"deep\")"
   ]
  },
  {
   "cell_type": "markdown",
   "metadata": {},
   "source": [
    "# Procedure:\n",
    "### Each example follow the simple following procedure:\n",
    "### 0) Load the input example and target labels.\n",
    "\n",
    "### 1) Define the network structure.\n",
    "We are only going to make modifications here. The network itself can be seen as a parametrized function $\\bar y = f(x; \\theta)$ where $x$ is the input, $\\theta$ is the parameters and $\\bar y$ is the predicted output. $y$ would be the target associated with $x$ i.e. the actual desired output.\n",
    "\n",
    "### 2) Compile the gradient expression.\n",
    "In theano (the machine learning framework used under the hood here), an expression is first created symbolically like a blueprint, then sent to the shop for manufacturing (compilation). Only after compilation do we have expression that we can use (e.g. $\\bar y = f(x)$ or $\\nabla_\\theta E(x, y)$. \n",
    "\n",
    "### 3) Perform the parameter optimization (training).\n",
    "Training is divided into epochs. One epoch means that we go through the whole set of training example once, and for each example we calculate the gradient of the loss with respect to the parameters of the network in order to improve (reduce) the loss. It is customary (though not required) to test the validation accuracy after each epoch of training.\n",
    "\n",
    "### 4) Validate the newly parametrized network on new input/target pair \n",
    "Alternativelly this can be done during training to see how the validation accuracy change over time).\n",
    "\n",
    "### 5) Look at the results"
   ]
  },
  {
   "cell_type": "markdown",
   "metadata": {},
   "source": [
    "# Step 0) Load MNIST digits dataset"
   ]
  },
  {
   "cell_type": "code",
   "execution_count": 3,
   "metadata": {
    "collapsed": true
   },
   "outputs": [],
   "source": [
    "dataset_folder = '/home/styvesg/Documents/PostDoc/Programs/JupyterNotebooks/DataSet/'\n",
    "\n",
    "mnist_trn_img = dataset_folder + 'train-images.idx3-ubyte'\n",
    "mnist_trn_lab = dataset_folder + 'train-labels.idx1-ubyte'\n",
    "mnist_val_img = dataset_folder + 't10k-images.idx3-ubyte'\n",
    "mnist_val_lab = dataset_folder + 't10k-labels.idx1-ubyte'"
   ]
  },
  {
   "cell_type": "code",
   "execution_count": 4,
   "metadata": {
    "collapsed": false
   },
   "outputs": [
    {
     "name": "stdout",
     "output_type": "stream",
     "text": [
      ">u1\n",
      "(60000, 28, 28)\n",
      ">u1\n",
      "(10000, 28, 28)\n",
      ">u1\n",
      "(60000,)\n",
      ">u1\n",
      "(10000,)\n"
     ]
    }
   ],
   "source": [
    "#Note that we reshaped the file into a 4d tensor with dimensions (sample_count, depth=1, x=28, y=28)\n",
    "mnist_trn_data = LoadMNIST(mnist_trn_img).astype(fpX)[:,np.newaxis,:,:]\n",
    "mnist_val_data = LoadMNIST(mnist_val_img).astype(fpX)[:,np.newaxis,:,:]\n",
    "mnist_trn_label = LoadMNIST(mnist_trn_lab)\n",
    "mnist_val_label = LoadMNIST(mnist_val_lab)"
   ]
  },
  {
   "cell_type": "code",
   "execution_count": 5,
   "metadata": {
    "collapsed": true
   },
   "outputs": [],
   "source": [
    "trn_size = len(mnist_trn_data)\n",
    "val_size = len(mnist_val_data)\n",
    "\n",
    "all_data  = np.concatenate([mnist_trn_data, mnist_val_data], axis=0)\n",
    "all_label = np.concatenate([mnist_trn_label, mnist_val_label], axis=0)\n",
    "\n",
    "order = np.arange(len(all_data))\n",
    "np.random.shuffle(order)\n",
    "all_data = all_data[order]\n",
    "all_label = all_label[order]\n",
    "\n",
    "mnist_trn_data = all_data[:trn_size]\n",
    "mnist_val_data = all_data[trn_size:]\n",
    "mnist_trn_label = all_label[:trn_size]\n",
    "mnist_val_label = all_label[trn_size:]"
   ]
  },
  {
   "cell_type": "code",
   "execution_count": 6,
   "metadata": {
    "collapsed": false
   },
   "outputs": [
    {
     "name": "stdout",
     "output_type": "stream",
     "text": [
      "(60000, 1, 28, 28)\n"
     ]
    }
   ],
   "source": [
    "print mnist_trn_data.shape"
   ]
  },
  {
   "cell_type": "code",
   "execution_count": 40,
   "metadata": {
    "collapsed": true
   },
   "outputs": [],
   "source": [
    "##normalize images\n",
    "##note the use of np.newaxis to take advantage of broadcasting rules!\n",
    "for arr in [mnist_trn_data, mnist_val_data]:\n",
    "    arr -= np.mean(arr,axis=(2,3))[:,np.newaxis,np.newaxis]  \n",
    "    arr /= np.sqrt(np.sum(arr**2,axis=(2,3)))[:,np.newaxis,np.newaxis]"
   ]
  },
  {
   "cell_type": "code",
   "execution_count": 41,
   "metadata": {
    "collapsed": false
   },
   "outputs": [
    {
     "data": {
      "image/png": "[encoded data removed]",
      "text/plain": [
       "<matplotlib.figure.Figure at 0x7f0a4ba3a650>"
      ]
     },
     "metadata": {},
     "output_type": "display_data"
    }
   ],
   "source": [
    "n = 6\n",
    "plt.figure(figsize=(3*n,3))\n",
    "for i in range(n):\n",
    "    plt.subplot(1,n,i+1)\n",
    "    idx = np.random.randint(0, len(mnist_trn_data))\n",
    "    plt.imshow(mnist_trn_data[idx,0,:,:], cmap='gray', interpolation='None')\n",
    "    plt.grid('off')\n",
    "    plt.title(mnist_trn_label[idx])"
   ]
  },
  {
   "cell_type": "markdown",
   "metadata": {},
   "source": [
    "### Some helpful functions"
   ]
  },
  {
   "cell_type": "code",
   "execution_count": 8,
   "metadata": {
    "collapsed": true
   },
   "outputs": [],
   "source": [
    "def print_lasagne_net(_net, skipnoparam=True):\n",
    "    '''\n",
    "    Print a summary of the layer and their parameter shapes\n",
    "    '''\n",
    "    layers = L.get_all_layers(_net)\n",
    "    for l in layers:\n",
    "        out = l.output_shape\n",
    "        par = l.get_params()\n",
    "        if skipnoparam and len(par)==0 and l.name==None:\n",
    "            continue\n",
    "        print \"Layer\\t: %s\\nName\\t: %s\\nType\\t: %s\" % (l, l.name, type(l))\n",
    "        print \"Shape\\t: %s\" % (out,)\n",
    "        if len(par)>0:\n",
    "            print \"Params\"\n",
    "            for p in par:\n",
    "                print \"        |-- {:<10}: {:}\".format(p.name, p.get_value().shape,)\n",
    "        print \"\\n\"\n",
    "\n",
    "def iterate_minibatches(inputs, targets, batchsize, shuffle=False):\n",
    "    '''\n",
    "    for a given 4d input image tensor and a 2d target tensor of one-hot embedding, \n",
    "    return a shuffled batch of input-target pair\n",
    "    '''\n",
    "    assert len(inputs) == len(targets)\n",
    "    if shuffle:\n",
    "        indices = np.arange(len(inputs))\n",
    "        np.random.shuffle(indices)\n",
    "    for start_idx in range(0, len(inputs) - batchsize + 1, batchsize):\n",
    "        if shuffle:\n",
    "            excerpt = indices[start_idx:start_idx + batchsize]\n",
    "        else:\n",
    "            excerpt = slice(start_idx, start_idx + batchsize)\n",
    "        yield inputs[excerpt], targets[excerpt]\n",
    "          \n",
    "def embedding(x, c=10): \n",
    "    '''\n",
    "    Also known as one-hot embedding.\n",
    "    '''\n",
    "    y = np.zeros((len(x), c), dtype=fpX)\n",
    "    y[np.arange(len(x)), x] = 1\n",
    "    return y"
   ]
  },
  {
   "cell_type": "markdown",
   "metadata": {},
   "source": [
    "# Step 1) Define the classifier net\n",
    "## Reminder:\n",
    "The dense layer (fully connected layer) performs $Y = XW + b$ on its (flattened) input $X$ of shape (\\# of samples, # of features).\n",
    "\n",
    "A rectifier nonlinearity, applied after the linear transformation in some cases, is the piece-wise function $\\phi(x)=\\text{max}(0, x)$ applied element-wise.\n",
    "\n",
    "A sigmoid nonlinearity, applied after the linear transformation in some cases, is the function $\\sigma(x)=\\frac{1}{1+\\exp(-x)}$ applied element-wise, which outputs number between 0 and 1.\n",
    "\n",
    "A tanh nonlinearity, applied after the linear transformation in some cases, is the function $tanh(x) = \\frac{1-\\exp(-2x)}{1+\\exp(-2x)}$ applied element-wise, which outputs number between -1 and 1."
   ]
  },
  {
   "cell_type": "code",
   "execution_count": 50,
   "metadata": {
    "collapsed": true
   },
   "outputs": [],
   "source": [
    "npc = 1         # # of channels in image\n",
    "npx = 28        # # of pixels width/height of images\n",
    "ny = 10         # # of classes"
   ]
  },
  {
   "cell_type": "code",
   "execution_count": 52,
   "metadata": {
    "collapsed": false,
    "scrolled": true
   },
   "outputs": [],
   "source": [
    "def model_1(__X):\n",
    "    '''\n",
    "    A single linear layer\n",
    "    '''\n",
    "    _input = L.InputLayer((None, npc, npx, npx), input_var=__X, name='X')\n",
    "    _fc1 = L.DenseLayer(_input, ny, W=I.Constant(0.0), b=I.Constant(0.), nonlinearity=None) \n",
    "    return _fc1\n",
    "\n",
    "\n",
    "def model_2(__X): \n",
    "    '''\n",
    "    Multilayer perceptron (rectify nonlinearity) with one nonlinear layer and one final linear classifer layer.\n",
    "    '''\n",
    "    _input = L.InputLayer((None, npc, npx, npx), input_var=__X, name='X')\n",
    "    _fc1 = L.DenseLayer(_input, 4096, W=I.Normal(0.002), b=I.Constant(0.), nonlinearity=NL.rectify)\n",
    "    _fc2 = L.DenseLayer(_fc1, ny, W=I.Constant(0.0), b=I.Constant(0.), nonlinearity=None)\n",
    "    return _fc2"
   ]
  },
  {
   "cell_type": "code",
   "execution_count": 53,
   "metadata": {
    "collapsed": false
   },
   "outputs": [
    {
     "name": "stdout",
     "output_type": "stream",
     "text": [
      "Layer\t: <lasagne.layers.input.InputLayer object at 0x7f0a30baa890>\n",
      "Name\t: X\n",
      "Type\t: <class 'lasagne.layers.input.InputLayer'>\n",
      "Shape\t: (None, 1, 28, 28)\n",
      "\n",
      "\n",
      "Layer\t: <lasagne.layers.dense.DenseLayer object at 0x7f0a30ca0b50>\n",
      "Name\t: None\n",
      "Type\t: <class 'lasagne.layers.dense.DenseLayer'>\n",
      "Shape\t: (None, 4096)\n",
      "Params\n",
      "        |-- W         : (784, 4096)\n",
      "        |-- b         : (4096,)\n",
      "\n",
      "\n",
      "Layer\t: <lasagne.layers.dense.DenseLayer object at 0x7f0a30ca0e10>\n",
      "Name\t: None\n",
      "Type\t: <class 'lasagne.layers.dense.DenseLayer'>\n",
      "Shape\t: (None, 10)\n",
      "Params\n",
      "        |-- W         : (4096, 10)\n",
      "        |-- b         : (10,)\n",
      "\n",
      "\n",
      "[W, b, W, b]\n"
     ]
    }
   ],
   "source": [
    "_X = T.tensor4() # a theano variable representing the input data\n",
    "_Y = T.matrix()  # a theano variable representing the class label\n",
    "\n",
    "_cls = model_2(_X)\n",
    "\n",
    "# Look at the details of the network input, output and filter shapes\n",
    "print_lasagne_net(_cls, skipnoparam=True)\n",
    "\n",
    "cls_params = L.get_all_params(_cls, trainable=True)\n",
    "print cls_params"
   ]
  },
  {
   "cell_type": "markdown",
   "metadata": {},
   "source": [
    "# Step 2) Define the loss function and compile the theano expressions"
   ]
  },
  {
   "cell_type": "code",
   "execution_count": 54,
   "metadata": {
    "collapsed": true
   },
   "outputs": [],
   "source": [
    "def loss(__y_bar, __y):\n",
    "    '''The loss function used to train the network -- tells what is good and what is bad'''\n",
    "    return O.squared_error(__y_bar, __y).mean()"
   ]
  },
  {
   "cell_type": "markdown",
   "metadata": {},
   "source": [
    "### The following block of code compiles our training expressions. The important part are the functions that results:\n",
    "cls_trn_fn(X, Y): The classifier training function. It takes a batch of sample data point and labels as input and performs gradient descent on the parameters (all of them!) of our network. It returns the loss and accuracy on that batch.\n",
    "\n",
    "cls_val_fn(X, Y): The classifier validation function. It takes a batch of sample data point and labels as input and returns the loss and accuracy on that batch.\n",
    "\n",
    "cls_pred_fn(X): For a batch of sample data point, return the predicted label i.e. the one corresponding to the maximum network output value."
   ]
  },
  {
   "cell_type": "code",
   "execution_count": 55,
   "metadata": {
    "collapsed": false
   },
   "outputs": [
    {
     "name": "stdout",
     "output_type": "stream",
     "text": [
      "COMPILING\n",
      "1.00 seconds to compile theano functions\n"
     ]
    }
   ],
   "source": [
    "_lr = theano.shared(fpX(0))\n",
    "_l2 = theano.shared(fpX(0))\n",
    "\n",
    "_cls_reg = _l2 * R.regularize_layer_params(_cls, R.l2) # regularization loss\n",
    "_cls_trn_pred = L.get_output(_cls, deterministic=False) # training prediction\n",
    "_cls_trn_loss = loss(_cls_trn_pred, _Y) + _cls_reg # total training loss\n",
    "_cls_trn_acc = T.mean(T.eq(T.argmax(_cls_trn_pred, axis=1), T.argmax(_Y, axis=1)), dtype=theano.config.floatX) # validation accuracies\n",
    "\n",
    "_cls_val_pred = L.get_output(_cls, deterministic=True) #validation prediction\n",
    "_cls_val_loss = loss(_cls_val_pred, _Y) + _cls_reg # total validation loss\n",
    "_cls_val_acc = T.mean(T.eq(T.argmax(_cls_val_pred, axis=1), T.argmax(_Y, axis=1)), dtype=theano.config.floatX) # validation accuracies\n",
    "\n",
    "_class = T.argmax(_cls_val_pred, axis=1)\n",
    "\n",
    "cls_updates = lasagne.updates.sgd(_cls_trn_loss, cls_params, learning_rate=_lr) \n",
    "#cls_updates = lasagne.updates.apply_momentum(cls_updates, cls_params, momentum=0.9)\n",
    "\n",
    "print 'COMPILING'\n",
    "t = time.time()\n",
    "cls_trn_fn = theano.function([_X, _Y], [_cls_trn_loss, _cls_trn_acc], updates=cls_updates)\n",
    "cls_val_fn = theano.function([_X, _Y], [_cls_val_loss, _cls_val_acc])\n",
    "cls_pred_fn = theano.function([_X], _class)\n",
    "print '%.2f seconds to compile theano functions'%(time.time()-t)"
   ]
  },
  {
   "cell_type": "markdown",
   "metadata": {},
   "source": [
    "# Step 3 & 4) Training and validating the model. \n",
    "\n",
    "-Note that the parameter initialization, which is very important for training success, was defined when we defined the network and the values were initialized at compilation time.\n",
    "\n",
    "-We decrease learning rate by 'perc_decay'% every epoch after 'niter' epoch at initial rate 'lr'. This is to \"fine tune\" the learning process toward the end, and is known as learning rate decay.\n",
    "\n",
    "-We record the history of the training and validation accuracies."
   ]
  },
  {
   "cell_type": "code",
   "execution_count": 56,
   "metadata": {
    "collapsed": false
   },
   "outputs": [
    {
     "name": "stderr",
     "output_type": "stream",
     "text": [
      "120it [00:00, 132.70it/s]"
     ]
    },
    {
     "name": "stdout",
     "output_type": "stream",
     "text": [
      "\n",
      "  Epoch 1 of 50 took 1.365s\n",
      "  training loss:       0.038437\n",
      "  training accuracy:   83.34 %\n",
      "  validation loss:     0.038315\n",
      "  validation accuracy: 83.16 %\n"
     ]
    },
    {
     "name": "stderr",
     "output_type": "stream",
     "text": [
      "\n",
      "120it [00:00, 139.85it/s]"
     ]
    },
    {
     "name": "stdout",
     "output_type": "stream",
     "text": [
      "\n",
      "  Epoch 2 of 50 took 1.306s\n",
      "  training loss:       0.021661\n",
      "  training accuracy:   90.37 %\n",
      "  validation loss:     0.021880\n",
      "  validation accuracy: 90.32 %\n"
     ]
    },
    {
     "name": "stderr",
     "output_type": "stream",
     "text": [
      "\n",
      "120it [00:00, 146.21it/s]"
     ]
    },
    {
     "name": "stdout",
     "output_type": "stream",
     "text": [
      "\n",
      "  Epoch 3 of 50 took 1.303s\n",
      "  training loss:       0.018263\n",
      "  training accuracy:   91.97 %\n",
      "  validation loss:     0.018533\n",
      "  validation accuracy: 91.83 %\n"
     ]
    },
    {
     "name": "stderr",
     "output_type": "stream",
     "text": [
      "\n",
      "120it [00:00, 148.66it/s]"
     ]
    },
    {
     "name": "stdout",
     "output_type": "stream",
     "text": [
      "\n",
      "  Epoch 4 of 50 took 1.302s\n",
      "  training loss:       0.016105\n",
      "  training accuracy:   93.17 %\n",
      "  validation loss:     0.016374\n",
      "  validation accuracy: 93.03 %\n"
     ]
    },
    {
     "name": "stderr",
     "output_type": "stream",
     "text": [
      "\n",
      "120it [00:00, 148.01it/s]"
     ]
    },
    {
     "name": "stdout",
     "output_type": "stream",
     "text": [
      "\n",
      "  Epoch 5 of 50 took 1.293s\n",
      "  training loss:       0.014702\n",
      "  training accuracy:   93.96 %\n",
      "  validation loss:     0.015047\n",
      "  validation accuracy: 93.81 %\n"
     ]
    },
    {
     "name": "stderr",
     "output_type": "stream",
     "text": [
      "\n",
      "120it [00:00, 139.55it/s]"
     ]
    },
    {
     "name": "stdout",
     "output_type": "stream",
     "text": [
      "\n",
      "  Epoch 6 of 50 took 1.301s\n",
      "  training loss:       0.013524\n",
      "  training accuracy:   94.63 %\n",
      "  validation loss:     0.013924\n",
      "  validation accuracy: 94.50 %\n"
     ]
    },
    {
     "name": "stderr",
     "output_type": "stream",
     "text": [
      "\n",
      "120it [00:00, 145.86it/s]"
     ]
    },
    {
     "name": "stdout",
     "output_type": "stream",
     "text": [
      "\n",
      "  Epoch 7 of 50 took 1.319s\n",
      "  training loss:       0.012683\n",
      "  training accuracy:   95.15 %\n",
      "  validation loss:     0.013123\n",
      "  validation accuracy: 95.00 %\n"
     ]
    },
    {
     "name": "stderr",
     "output_type": "stream",
     "text": [
      "\n",
      "120it [00:00, 146.61it/s]"
     ]
    },
    {
     "name": "stdout",
     "output_type": "stream",
     "text": [
      "\n",
      "  Epoch 8 of 50 took 1.251s\n",
      "  training loss:       0.011933\n",
      "  training accuracy:   95.56 %\n",
      "  validation loss:     0.012438\n",
      "  validation accuracy: 95.36 %\n"
     ]
    },
    {
     "name": "stderr",
     "output_type": "stream",
     "text": [
      "\n",
      "120it [00:00, 141.16it/s]"
     ]
    },
    {
     "name": "stdout",
     "output_type": "stream",
     "text": [
      "\n",
      "  Epoch 9 of 50 took 1.296s\n",
      "  training loss:       0.011371\n",
      "  training accuracy:   95.89 %\n",
      "  validation loss:     0.011932\n",
      "  validation accuracy: 95.60 %\n"
     ]
    },
    {
     "name": "stderr",
     "output_type": "stream",
     "text": [
      "\n",
      "120it [00:00, 152.57it/s]"
     ]
    },
    {
     "name": "stdout",
     "output_type": "stream",
     "text": [
      "\n",
      "  Epoch 10 of 50 took 1.236s\n",
      "  training loss:       0.010772\n",
      "  training accuracy:   96.25 %\n",
      "  validation loss:     0.011367\n",
      "  validation accuracy: 95.89 %\n"
     ]
    },
    {
     "name": "stderr",
     "output_type": "stream",
     "text": [
      "\n",
      "120it [00:00, 145.91it/s]"
     ]
    },
    {
     "name": "stdout",
     "output_type": "stream",
     "text": [
      "\n",
      "  Epoch 11 of 50 took 1.280s\n",
      "  training loss:       0.010223\n",
      "  training accuracy:   96.60 %\n",
      "  validation loss:     0.010869\n",
      "  validation accuracy: 96.16 %\n"
     ]
    },
    {
     "name": "stderr",
     "output_type": "stream",
     "text": [
      "\n",
      "120it [00:00, 154.30it/s]"
     ]
    },
    {
     "name": "stdout",
     "output_type": "stream",
     "text": [
      "\n",
      "  Epoch 12 of 50 took 1.263s\n",
      "  training loss:       0.009982\n",
      "  training accuracy:   96.72 %\n",
      "  validation loss:     0.010673\n",
      "  validation accuracy: 96.30 %\n"
     ]
    },
    {
     "name": "stderr",
     "output_type": "stream",
     "text": [
      "\n",
      "120it [00:00, 149.73it/s]"
     ]
    },
    {
     "name": "stdout",
     "output_type": "stream",
     "text": [
      "\n",
      "  Epoch 13 of 50 took 1.240s\n",
      "  training loss:       0.009418\n",
      "  training accuracy:   97.00 %\n",
      "  validation loss:     0.010131\n",
      "  validation accuracy: 96.51 %\n"
     ]
    },
    {
     "name": "stderr",
     "output_type": "stream",
     "text": [
      "\n",
      "120it [00:00, 153.13it/s]"
     ]
    },
    {
     "name": "stdout",
     "output_type": "stream",
     "text": [
      "\n",
      "  Epoch 14 of 50 took 1.217s\n",
      "  training loss:       0.009298\n",
      "  training accuracy:   97.08 %\n",
      "  validation loss:     0.010046\n",
      "  validation accuracy: 96.49 %\n"
     ]
    },
    {
     "name": "stderr",
     "output_type": "stream",
     "text": [
      "\n",
      "120it [00:00, 152.23it/s]"
     ]
    },
    {
     "name": "stdout",
     "output_type": "stream",
     "text": [
      "\n",
      "  Epoch 15 of 50 took 1.230s\n",
      "  training loss:       0.008742\n",
      "  training accuracy:   97.32 %\n",
      "  validation loss:     0.009542\n",
      "  validation accuracy: 96.72 %\n"
     ]
    },
    {
     "name": "stderr",
     "output_type": "stream",
     "text": [
      "\n",
      "120it [00:00, 145.37it/s]"
     ]
    },
    {
     "name": "stdout",
     "output_type": "stream",
     "text": [
      "\n",
      "  Epoch 16 of 50 took 1.303s\n",
      "  training loss:       0.008486\n",
      "  training accuracy:   97.50 %\n",
      "  validation loss:     0.009307\n",
      "  validation accuracy: 96.83 %\n"
     ]
    },
    {
     "name": "stderr",
     "output_type": "stream",
     "text": [
      "\n",
      "120it [00:00, 153.52it/s]"
     ]
    },
    {
     "name": "stdout",
     "output_type": "stream",
     "text": [
      "\n",
      "  Epoch 17 of 50 took 1.212s\n",
      "  training loss:       0.008332\n",
      "  training accuracy:   97.54 %\n",
      "  validation loss:     0.009228\n",
      "  validation accuracy: 96.95 %\n"
     ]
    },
    {
     "name": "stderr",
     "output_type": "stream",
     "text": [
      "\n",
      "120it [00:00, 153.54it/s]"
     ]
    },
    {
     "name": "stdout",
     "output_type": "stream",
     "text": [
      "\n",
      "  Epoch 18 of 50 took 1.215s\n",
      "  training loss:       0.007969\n",
      "  training accuracy:   97.71 %\n",
      "  validation loss:     0.008881\n",
      "  validation accuracy: 97.03 %\n"
     ]
    },
    {
     "name": "stderr",
     "output_type": "stream",
     "text": [
      "\n",
      "120it [00:00, 144.68it/s]"
     ]
    },
    {
     "name": "stdout",
     "output_type": "stream",
     "text": [
      "\n",
      "  Epoch 19 of 50 took 1.276s\n",
      "  training loss:       0.007786\n",
      "  training accuracy:   97.78 %\n",
      "  validation loss:     0.008743\n",
      "  validation accuracy: 97.06 %\n"
     ]
    },
    {
     "name": "stderr",
     "output_type": "stream",
     "text": [
      "\n",
      "120it [00:00, 139.53it/s]"
     ]
    },
    {
     "name": "stdout",
     "output_type": "stream",
     "text": [
      "\n",
      "  Epoch 20 of 50 took 1.319s\n",
      "  training loss:       0.007623\n",
      "  training accuracy:   97.87 %\n",
      "  validation loss:     0.008586\n",
      "  validation accuracy: 97.12 %\n"
     ]
    },
    {
     "name": "stderr",
     "output_type": "stream",
     "text": [
      "\n",
      "120it [00:00, 156.65it/s]"
     ]
    },
    {
     "name": "stdout",
     "output_type": "stream",
     "text": [
      "\n",
      "  Epoch 21 of 50 took 1.273s\n",
      "  training loss:       0.007358\n",
      "  training accuracy:   97.96 %\n",
      "  validation loss:     0.008389\n",
      "  validation accuracy: 97.21 %\n"
     ]
    },
    {
     "name": "stderr",
     "output_type": "stream",
     "text": [
      "\n",
      "120it [00:00, 148.22it/s]"
     ]
    },
    {
     "name": "stdout",
     "output_type": "stream",
     "text": [
      "\n",
      "  Epoch 22 of 50 took 1.244s\n",
      "  training loss:       0.007264\n",
      "  training accuracy:   98.02 %\n",
      "  validation loss:     0.008276\n",
      "  validation accuracy: 97.28 %\n"
     ]
    },
    {
     "name": "stderr",
     "output_type": "stream",
     "text": [
      "\n",
      "120it [00:00, 153.60it/s]"
     ]
    },
    {
     "name": "stdout",
     "output_type": "stream",
     "text": [
      "\n",
      "  Epoch 23 of 50 took 1.213s\n",
      "  training loss:       0.006984\n",
      "  training accuracy:   98.09 %\n",
      "  validation loss:     0.008069\n",
      "  validation accuracy: 97.39 %\n"
     ]
    },
    {
     "name": "stderr",
     "output_type": "stream",
     "text": [
      "\n",
      "120it [00:00, 144.46it/s]"
     ]
    },
    {
     "name": "stdout",
     "output_type": "stream",
     "text": [
      "\n",
      "  Epoch 24 of 50 took 1.278s\n",
      "  training loss:       0.006783\n",
      "  training accuracy:   98.16 %\n",
      "  validation loss:     0.007887\n",
      "  validation accuracy: 97.45 %\n"
     ]
    },
    {
     "name": "stderr",
     "output_type": "stream",
     "text": [
      "\n",
      "120it [00:00, 157.40it/s]"
     ]
    },
    {
     "name": "stdout",
     "output_type": "stream",
     "text": [
      "\n",
      "  Epoch 25 of 50 took 1.211s\n",
      "  training loss:       0.006645\n",
      "  training accuracy:   98.22 %\n",
      "  validation loss:     0.007795\n",
      "  validation accuracy: 97.46 %\n"
     ]
    },
    {
     "name": "stderr",
     "output_type": "stream",
     "text": [
      "\n",
      "120it [00:00, 157.57it/s]"
     ]
    },
    {
     "name": "stdout",
     "output_type": "stream",
     "text": [
      "\n",
      "  Epoch 26 of 50 took 1.208s\n",
      "  training loss:       0.006547\n",
      "  training accuracy:   98.27 %\n",
      "  validation loss:     0.007734\n",
      "  validation accuracy: 97.47 %\n"
     ]
    },
    {
     "name": "stderr",
     "output_type": "stream",
     "text": [
      "\n",
      "120it [00:00, 154.15it/s]"
     ]
    },
    {
     "name": "stdout",
     "output_type": "stream",
     "text": [
      "\n",
      "  Epoch 27 of 50 took 1.209s\n",
      "  training loss:       0.006340\n",
      "  training accuracy:   98.35 %\n",
      "  validation loss:     0.007550\n",
      "  validation accuracy: 97.51 %\n"
     ]
    },
    {
     "name": "stderr",
     "output_type": "stream",
     "text": [
      "\n",
      "120it [00:00, 154.32it/s]"
     ]
    },
    {
     "name": "stdout",
     "output_type": "stream",
     "text": [
      "\n",
      "  Epoch 28 of 50 took 1.208s\n",
      "  training loss:       0.006221\n",
      "  training accuracy:   98.37 %\n",
      "  validation loss:     0.007455\n",
      "  validation accuracy: 97.55 %\n"
     ]
    },
    {
     "name": "stderr",
     "output_type": "stream",
     "text": [
      "\n",
      "120it [00:00, 154.00it/s]"
     ]
    },
    {
     "name": "stdout",
     "output_type": "stream",
     "text": [
      "\n",
      "  Epoch 29 of 50 took 1.210s\n",
      "  training loss:       0.006125\n",
      "  training accuracy:   98.41 %\n",
      "  validation loss:     0.007382\n",
      "  validation accuracy: 97.64 %\n"
     ]
    },
    {
     "name": "stderr",
     "output_type": "stream",
     "text": [
      "\n",
      "120it [00:00, 154.26it/s]"
     ]
    },
    {
     "name": "stdout",
     "output_type": "stream",
     "text": [
      "\n",
      "  Epoch 30 of 50 took 1.225s\n",
      "  training loss:       0.005969\n",
      "  training accuracy:   98.48 %\n",
      "  validation loss:     0.007262\n",
      "  validation accuracy: 97.66 %\n"
     ]
    },
    {
     "name": "stderr",
     "output_type": "stream",
     "text": [
      "\n",
      "120it [00:00, 152.83it/s]"
     ]
    },
    {
     "name": "stdout",
     "output_type": "stream",
     "text": [
      "\n",
      "  Epoch 31 of 50 took 1.292s\n",
      "  training loss:       0.005898\n",
      "  training accuracy:   98.54 %\n",
      "  validation loss:     0.007221\n",
      "  validation accuracy: 97.82 %\n"
     ]
    },
    {
     "name": "stderr",
     "output_type": "stream",
     "text": [
      "\n",
      "120it [00:00, 142.60it/s]"
     ]
    },
    {
     "name": "stdout",
     "output_type": "stream",
     "text": [
      "\n",
      "  Epoch 32 of 50 took 1.296s\n",
      "  training loss:       0.005734\n",
      "  training accuracy:   98.54 %\n",
      "  validation loss:     0.007072\n",
      "  validation accuracy: 97.77 %\n"
     ]
    },
    {
     "name": "stderr",
     "output_type": "stream",
     "text": [
      "\n",
      "120it [00:00, 150.76it/s]"
     ]
    },
    {
     "name": "stdout",
     "output_type": "stream",
     "text": [
      "\n",
      "  Epoch 33 of 50 took 1.228s\n",
      "  training loss:       0.005616\n",
      "  training accuracy:   98.60 %\n",
      "  validation loss:     0.006966\n",
      "  validation accuracy: 97.82 %\n"
     ]
    },
    {
     "name": "stderr",
     "output_type": "stream",
     "text": [
      "\n",
      "120it [00:00, 147.55it/s]"
     ]
    },
    {
     "name": "stdout",
     "output_type": "stream",
     "text": [
      "\n",
      "  Epoch 34 of 50 took 1.311s\n",
      "  training loss:       0.005509\n",
      "  training accuracy:   98.66 %\n",
      "  validation loss:     0.006902\n",
      "  validation accuracy: 97.80 %\n"
     ]
    },
    {
     "name": "stderr",
     "output_type": "stream",
     "text": [
      "\n",
      "120it [00:00, 146.67it/s]"
     ]
    },
    {
     "name": "stdout",
     "output_type": "stream",
     "text": [
      "\n",
      "  Epoch 35 of 50 took 1.282s\n",
      "  training loss:       0.005445\n",
      "  training accuracy:   98.69 %\n",
      "  validation loss:     0.006889\n",
      "  validation accuracy: 97.89 %\n"
     ]
    },
    {
     "name": "stderr",
     "output_type": "stream",
     "text": [
      "\n",
      "120it [00:00, 151.22it/s]"
     ]
    },
    {
     "name": "stdout",
     "output_type": "stream",
     "text": [
      "\n",
      "  Epoch 36 of 50 took 1.287s\n",
      "  training loss:       0.005389\n",
      "  training accuracy:   98.68 %\n",
      "  validation loss:     0.006841\n",
      "  validation accuracy: 97.86 %\n"
     ]
    },
    {
     "name": "stderr",
     "output_type": "stream",
     "text": [
      "\n",
      "120it [00:00, 139.38it/s]"
     ]
    },
    {
     "name": "stdout",
     "output_type": "stream",
     "text": [
      "\n",
      "  Epoch 37 of 50 took 1.313s\n",
      "  training loss:       0.005256\n",
      "  training accuracy:   98.75 %\n",
      "  validation loss:     0.006734\n",
      "  validation accuracy: 97.89 %\n"
     ]
    },
    {
     "name": "stderr",
     "output_type": "stream",
     "text": [
      "\n",
      "120it [00:00, 142.91it/s]"
     ]
    },
    {
     "name": "stdout",
     "output_type": "stream",
     "text": [
      "\n",
      "  Epoch 38 of 50 took 1.298s\n",
      "  training loss:       0.005244\n",
      "  training accuracy:   98.79 %\n",
      "  validation loss:     0.006724\n",
      "  validation accuracy: 97.89 %\n"
     ]
    },
    {
     "name": "stderr",
     "output_type": "stream",
     "text": [
      "\n",
      "120it [00:00, 157.44it/s]"
     ]
    },
    {
     "name": "stdout",
     "output_type": "stream",
     "text": [
      "\n",
      "  Epoch 39 of 50 took 1.240s\n",
      "  training loss:       0.005030\n",
      "  training accuracy:   98.82 %\n",
      "  validation loss:     0.006558\n",
      "  validation accuracy: 97.99 %\n"
     ]
    },
    {
     "name": "stderr",
     "output_type": "stream",
     "text": [
      "\n",
      "120it [00:00, 146.71it/s]"
     ]
    },
    {
     "name": "stdout",
     "output_type": "stream",
     "text": [
      "\n",
      "  Epoch 40 of 50 took 1.257s\n",
      "  training loss:       0.004992\n",
      "  training accuracy:   98.83 %\n",
      "  validation loss:     0.006551\n",
      "  validation accuracy: 97.92 %\n"
     ]
    },
    {
     "name": "stderr",
     "output_type": "stream",
     "text": [
      "\n",
      "120it [00:00, 140.61it/s]"
     ]
    },
    {
     "name": "stdout",
     "output_type": "stream",
     "text": [
      "\n",
      "  Epoch 41 of 50 took 1.297s\n",
      "  training loss:       0.004874\n",
      "  training accuracy:   98.86 %\n",
      "  validation loss:     0.006432\n",
      "  validation accuracy: 97.97 %\n"
     ]
    },
    {
     "name": "stderr",
     "output_type": "stream",
     "text": [
      "\n",
      "120it [00:00, 142.12it/s]"
     ]
    },
    {
     "name": "stdout",
     "output_type": "stream",
     "text": [
      "\n",
      "  Epoch 42 of 50 took 1.294s\n",
      "  training loss:       0.004823\n",
      "  training accuracy:   98.88 %\n",
      "  validation loss:     0.006418\n",
      "  validation accuracy: 97.97 %\n"
     ]
    },
    {
     "name": "stderr",
     "output_type": "stream",
     "text": [
      "\n",
      "120it [00:00, 156.85it/s]"
     ]
    },
    {
     "name": "stdout",
     "output_type": "stream",
     "text": [
      "\n",
      "  Epoch 43 of 50 took 1.217s\n",
      "  training loss:       0.004753\n",
      "  training accuracy:   98.88 %\n",
      "  validation loss:     0.006365\n",
      "  validation accuracy: 97.94 %\n"
     ]
    },
    {
     "name": "stderr",
     "output_type": "stream",
     "text": [
      "\n",
      "120it [00:00, 149.88it/s]"
     ]
    },
    {
     "name": "stdout",
     "output_type": "stream",
     "text": [
      "\n",
      "  Epoch 44 of 50 took 1.240s\n",
      "  training loss:       0.004639\n",
      "  training accuracy:   98.98 %\n",
      "  validation loss:     0.006294\n",
      "  validation accuracy: 98.03 %\n"
     ]
    },
    {
     "name": "stderr",
     "output_type": "stream",
     "text": [
      "\n",
      "120it [00:00, 151.47it/s]"
     ]
    },
    {
     "name": "stdout",
     "output_type": "stream",
     "text": [
      "\n",
      "  Epoch 45 of 50 took 1.230s\n",
      "  training loss:       0.004654\n",
      "  training accuracy:   98.97 %\n",
      "  validation loss:     0.006319\n",
      "  validation accuracy: 98.05 %\n"
     ]
    },
    {
     "name": "stderr",
     "output_type": "stream",
     "text": [
      "\n",
      "120it [00:00, 151.88it/s]"
     ]
    },
    {
     "name": "stdout",
     "output_type": "stream",
     "text": [
      "\n",
      "  Epoch 46 of 50 took 1.227s\n",
      "  training loss:       0.004510\n",
      "  training accuracy:   99.01 %\n",
      "  validation loss:     0.006193\n",
      "  validation accuracy: 98.06 %\n"
     ]
    },
    {
     "name": "stderr",
     "output_type": "stream",
     "text": [
      "\n",
      "120it [00:00, 153.63it/s]"
     ]
    },
    {
     "name": "stdout",
     "output_type": "stream",
     "text": [
      "\n",
      "  Epoch 47 of 50 took 1.230s\n",
      "  training loss:       0.004455\n",
      "  training accuracy:   99.04 %\n",
      "  validation loss:     0.006160\n",
      "  validation accuracy: 98.11 %\n"
     ]
    },
    {
     "name": "stderr",
     "output_type": "stream",
     "text": [
      "\n",
      "120it [00:00, 157.45it/s]"
     ]
    },
    {
     "name": "stdout",
     "output_type": "stream",
     "text": [
      "\n",
      "  Epoch 48 of 50 took 1.210s\n",
      "  training loss:       0.004514\n",
      "  training accuracy:   99.06 %\n",
      "  validation loss:     0.006258\n",
      "  validation accuracy: 98.10 %\n"
     ]
    },
    {
     "name": "stderr",
     "output_type": "stream",
     "text": [
      "\n",
      "120it [00:00, 153.26it/s]"
     ]
    },
    {
     "name": "stdout",
     "output_type": "stream",
     "text": [
      "\n",
      "  Epoch 49 of 50 took 1.215s\n",
      "  training loss:       0.004335\n",
      "  training accuracy:   99.14 %\n",
      "  validation loss:     0.006074\n",
      "  validation accuracy: 98.15 %\n"
     ]
    },
    {
     "name": "stderr",
     "output_type": "stream",
     "text": [
      "\n",
      "120it [00:00, 151.29it/s]"
     ]
    },
    {
     "name": "stdout",
     "output_type": "stream",
     "text": [
      "\n",
      "  Epoch 50 of 50 took 1.227s\n",
      "  training loss:       0.004221\n",
      "  training accuracy:   99.14 %\n",
      "  validation loss:     0.006009\n",
      "  validation accuracy: 98.12 %\n"
     ]
    },
    {
     "name": "stderr",
     "output_type": "stream",
     "text": [
      "\n"
     ]
    }
   ],
   "source": [
    "lr = 1.   # initial learning rate for sgd\n",
    "l2 = 0.    # l2 weight decay\n",
    "niter = 50        # # of iter at starting learning rate\n",
    "perc_decay = 5.0 # # of iter to linearly decay learning rate to zero\n",
    "num_epochs = 50\n",
    "batch_size = 500\n",
    "max_trn_size = 60000\n",
    "\n",
    "_lr.set_value(fpX(lr))\n",
    "_l2.set_value(fpX(l2))\n",
    "\n",
    "mnist_trn_emb_label = embedding(mnist_trn_label, ny)\n",
    "mnist_val_emb_label = embedding(mnist_val_label, ny)\n",
    "\n",
    "trn_hist = []\n",
    "val_hist = []\n",
    "\n",
    "for epoch in range(num_epochs):\n",
    "    # In each epoch, we do a full pass over the training data:\n",
    "    trn_err = 0\n",
    "    trn_acc = 0\n",
    "    trn_batches = 0\n",
    "    start_time = time.time()\n",
    "    for xb, yb in tqdm(iterate_minibatches(mnist_trn_data[:max_trn_size], mnist_trn_emb_label[:max_trn_size], batch_size, shuffle=True)):\n",
    "        _, _ = cls_trn_fn(xb, yb)\n",
    "    \n",
    "    for xb, yb in iterate_minibatches(mnist_trn_data[:max_trn_size], mnist_trn_emb_label[:max_trn_size], batch_size, shuffle=False):\n",
    "        err, acc = cls_val_fn(xb, yb)\n",
    "        trn_err += err\n",
    "        trn_acc += acc\n",
    "        trn_batches += 1\n",
    "    # And a full pass over the validation data:\n",
    "    val_err = 0\n",
    "    val_acc = 0\n",
    "    val_batches = 0\n",
    "    for xb, yb in iterate_minibatches(mnist_val_data, mnist_val_emb_label, batch_size, shuffle=False):\n",
    "        err, acc = cls_val_fn(xb, yb)\n",
    "        val_err += err\n",
    "        val_acc += acc\n",
    "        val_batches += 1\n",
    "\n",
    "    trn_hist += [trn_acc / trn_batches,]\n",
    "    val_hist += [val_acc / val_batches,]\n",
    "    # Then we print the results for this epoch:\n",
    "    print(\"\\n  Epoch {} of {} took {:.3f}s\".format(epoch + 1, num_epochs, time.time() - start_time))\n",
    "    print(\"  training loss:       {:.6f}\".format(trn_err / trn_batches))\n",
    "    print(\"  training accuracy:   {:.2f} %\".format(trn_acc / trn_batches * 100))\n",
    "    print(\"  validation loss:     {:.6f}\".format(val_err / val_batches))\n",
    "    print(\"  validation accuracy: {:.2f} %\".format(val_acc / val_batches * 100))\n",
    "    \n",
    "    if epoch > niter:\n",
    "        _lr.set_value(fpX(_lr.get_value() * (1.0 - perc_decay / 100.0)))     \n",
    "    sys.stdout.flush()"
   ]
  },
  {
   "cell_type": "markdown",
   "metadata": {},
   "source": [
    "## Plot the history of training and validation accuracies"
   ]
  },
  {
   "cell_type": "code",
   "execution_count": 57,
   "metadata": {
    "collapsed": false
   },
   "outputs": [
    {
     "data": {
      "image/png": "[encoded data removed]",
      "text/plain": [
       "<matplotlib.figure.Figure at 0x7f0a30baaad0>"
      ]
     },
     "metadata": {},
     "output_type": "display_data"
    }
   ],
   "source": [
    "plt.figure(figsize=(20,5))\n",
    "plt.plot(trn_hist, 'b', label='trn', lw=2)\n",
    "plt.plot(val_hist, 'r', label='val', lw=2)\n",
    "plt.axhline(1./ny, color='k', linestyle='--', label='chance')\n",
    "plt.xlabel('epoch')\n",
    "plt.ylabel('accuracy')\n",
    "plt.ylim(0., 1.0)\n",
    "plt.legend(bbox_to_anchor=(1., 0.4))\n",
    "plt.grid()"
   ]
  },
  {
   "cell_type": "markdown",
   "metadata": {},
   "source": [
    "## What to do if training fails?\n",
    "### Right now, we are doing training without most of the modern bells and whistles like momentum, dropout and other learning algorithms based on gradient descent that are more suitable for the problems at hand. But even with the basic toolbox, there is quite a lot we can do when training initially fails:\n",
    "1) Try different values of the learning rate: sometimes a value too low is as bad as a value that is too high\n",
    "\n",
    "2) Try changing the initial conditions. Sometimes its better to start at zero but certain nonlinearity will return singular results at this point, so it's not always an option.\n",
    "\n",
    "3) Try to change the batch size. The batch size adds some randomness to the gradient evaluation. A gradient that is close to zero in one batch may be large in another. However, if the batch size is too large it \"evens out\" the gradient which means it may be stuck for good for all batch in a local minimum. However, batches too small incur a cost in effectiveness of the algorithm and may not work well with more modern technique like batch-normalization.\n",
    "\n",
    "4) Play with the architecture.\n",
    "\n",
    "5) Detect failure early. This is why it is important to monitor the output of the network. One can ususally tell very quickly if things are working or not.\n",
    "\n",
    "6) Try adding momentum to the gradient descent if the validation accuracy seems stuck at a low value."
   ]
  },
  {
   "cell_type": "markdown",
   "metadata": {},
   "source": [
    "## Get the learned parameter values"
   ]
  },
  {
   "cell_type": "code",
   "execution_count": 156,
   "metadata": {
    "collapsed": false
   },
   "outputs": [
    {
     "name": "stdout",
     "output_type": "stream",
     "text": [
      "(64, 1, 7, 7)\n"
     ]
    }
   ],
   "source": [
    "# get the parameter values into numpy array\n",
    "W, b = [p.get_value() for p in cls_params]\n",
    "print W.shape"
   ]
  },
  {
   "cell_type": "markdown",
   "metadata": {},
   "source": [
    "## Show an example case of the confusion matrix. What digits are most likely to be confused? Show some instance of this confusion."
   ]
  },
  {
   "cell_type": "code",
   "execution_count": 60,
   "metadata": {
    "collapsed": false
   },
   "outputs": [],
   "source": [
    "C = np.ndarray(shape=(ny,ny))\n",
    "\n",
    "for xb, yb in iterate_minibatches(mnist_val_data, mnist_val_label, batch_size, shuffle=False):\n",
    "    ypb  = cls_pred_fn(xb)\n",
    "    yeb  = embedding(yb, ny)\n",
    "    yebp = embedding(ypb, ny)\n",
    "\n",
    "    C += np.dot(yeb.T, yebp)"
   ]
  },
  {
   "cell_type": "code",
   "execution_count": 61,
   "metadata": {
    "collapsed": false
   },
   "outputs": [
    {
     "data": {
      "text/plain": [
       "<matplotlib.text.Text at 0x7f0a418b56d0>"
      ]
     },
     "execution_count": 61,
     "metadata": {},
     "output_type": "execute_result"
    },
    {
     "data": {
      "image/png": "[encoded data removed]",
      "text/plain": [
       "<matplotlib.figure.Figure at 0x7f0a30baa550>"
      ]
     },
     "metadata": {},
     "output_type": "display_data"
    }
   ],
   "source": [
    "from matplotlib.colors import LogNorm\n",
    "fig = plt.figure(figsize=(10,10))\n",
    "plt.imshow(C, cmap=cm.magma_r, norm=LogNorm(vmin=1, vmax=np.amax(C)), interpolation='None')\n",
    "plt.colorbar()\n",
    "plt.grid('off')\n",
    "plt.ylabel('Actual')\n",
    "plt.xlabel('Predicted')"
   ]
  },
  {
   "cell_type": "code",
   "execution_count": 62,
   "metadata": {
    "collapsed": false
   },
   "outputs": [
    {
     "name": "stdout",
     "output_type": "stream",
     "text": [
      "Overall classification accuracy = 98.2%\n"
     ]
    }
   ],
   "source": [
    "print \"Overall classification accuracy = %.1f%%\" % (np.trace(C, dtype=fpX) * 100. / len(mnist_val_data))"
   ]
  },
  {
   "cell_type": "code",
   "execution_count": null,
   "metadata": {
    "collapsed": true
   },
   "outputs": [],
   "source": []
  }
 ],
 "metadata": {
  "kernelspec": {
   "display_name": "Python 2",
   "language": "python",
   "name": "python2"
  },
  "language_info": {
   "codemirror_mode": {
    "name": "ipython",
    "version": 2
   },
   "file_extension": ".py",
   "mimetype": "text/x-python",
   "name": "python",
   "nbconvert_exporter": "python",
   "pygments_lexer": "ipython2",
   "version": "2.7.6"
  }
 },
 "nbformat": 4,
 "nbformat_minor": 0
}
